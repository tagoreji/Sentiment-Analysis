{
 "cells": [
  {
   "cell_type": "code",
   "execution_count": 76,
   "metadata": {
    "id": "JQWesK-HO-rL"
   },
   "outputs": [],
   "source": [
    "import pandas as pd\n",
    "import numpy as np\n",
    "import matplotlib as mlp\n",
    "import matplotlib.pyplot as plt"
   ]
  },
  {
   "cell_type": "code",
   "execution_count": 77,
   "metadata": {
    "id": "6lHC0Z0PRL5w"
   },
   "outputs": [],
   "source": [
    "data = pd.read_csv(\"/content/drive/MyDrive/Ecommerce/train_data.csv\")"
   ]
  },
  {
   "cell_type": "code",
   "execution_count": 78,
   "metadata": {
    "id": "Yvy2Lh1xSZPS"
   },
   "outputs": [],
   "source": [
    "test_data = pd.read_csv(\"/content/drive/MyDrive/Ecommerce/test_data.csv\")\n",
    "test_hidden_data = pd.read_csv(\"/content/drive/MyDrive/Ecommerce/test_data_hidden.csv\")"
   ]
  },
  {
   "cell_type": "code",
   "execution_count": 79,
   "metadata": {
    "colab": {
     "base_uri": "https://localhost:8080/",
     "height": 1147
    },
    "id": "8haKGbcpPPke",
    "outputId": "a509a787-f735-4ac5-a239-121767d321b7"
   },
   "outputs": [
    {
     "data": {
      "text/html": [
       "\n",
       "  <div id=\"df-487d23b6-7f83-49c0-aa75-56a1c52cf327\">\n",
       "    <div class=\"colab-df-container\">\n",
       "      <div>\n",
       "<style scoped>\n",
       "    .dataframe tbody tr th:only-of-type {\n",
       "        vertical-align: middle;\n",
       "    }\n",
       "\n",
       "    .dataframe tbody tr th {\n",
       "        vertical-align: top;\n",
       "    }\n",
       "\n",
       "    .dataframe thead th {\n",
       "        text-align: right;\n",
       "    }\n",
       "</style>\n",
       "<table border=\"1\" class=\"dataframe\">\n",
       "  <thead>\n",
       "    <tr style=\"text-align: right;\">\n",
       "      <th></th>\n",
       "      <th>name</th>\n",
       "      <th>brand</th>\n",
       "      <th>categories</th>\n",
       "      <th>primaryCategories</th>\n",
       "      <th>reviews.date</th>\n",
       "      <th>reviews.text</th>\n",
       "      <th>reviews.title</th>\n",
       "      <th>sentiment</th>\n",
       "    </tr>\n",
       "  </thead>\n",
       "  <tbody>\n",
       "    <tr>\n",
       "      <th>0</th>\n",
       "      <td>All-New Fire HD 8 Tablet, 8\" HD Display, Wi-Fi...</td>\n",
       "      <td>Amazon</td>\n",
       "      <td>Electronics,iPad &amp; Tablets,All Tablets,Fire Ta...</td>\n",
       "      <td>Electronics</td>\n",
       "      <td>2016-12-26T00:00:00.000Z</td>\n",
       "      <td>Purchased on Black FridayPros - Great Price (e...</td>\n",
       "      <td>Powerful tablet</td>\n",
       "      <td>Positive</td>\n",
       "    </tr>\n",
       "    <tr>\n",
       "      <th>1</th>\n",
       "      <td>Amazon - Echo Plus w/ Built-In Hub - Silver</td>\n",
       "      <td>Amazon</td>\n",
       "      <td>Amazon Echo,Smart Home,Networking,Home &amp; Tools...</td>\n",
       "      <td>Electronics,Hardware</td>\n",
       "      <td>2018-01-17T00:00:00.000Z</td>\n",
       "      <td>I purchased two Amazon in Echo Plus and two do...</td>\n",
       "      <td>Amazon Echo Plus AWESOME</td>\n",
       "      <td>Positive</td>\n",
       "    </tr>\n",
       "    <tr>\n",
       "      <th>2</th>\n",
       "      <td>Amazon Echo Show Alexa-enabled Bluetooth Speak...</td>\n",
       "      <td>Amazon</td>\n",
       "      <td>Amazon Echo,Virtual Assistant Speakers,Electro...</td>\n",
       "      <td>Electronics,Hardware</td>\n",
       "      <td>2017-12-20T00:00:00.000Z</td>\n",
       "      <td>Just an average Alexa option. Does show a few ...</td>\n",
       "      <td>Average</td>\n",
       "      <td>Neutral</td>\n",
       "    </tr>\n",
       "    <tr>\n",
       "      <th>3</th>\n",
       "      <td>Fire HD 10 Tablet, 10.1 HD Display, Wi-Fi, 16 ...</td>\n",
       "      <td>Amazon</td>\n",
       "      <td>eBook Readers,Fire Tablets,Electronics Feature...</td>\n",
       "      <td>Office Supplies,Electronics</td>\n",
       "      <td>2017-08-04T00:00:00.000Z</td>\n",
       "      <td>very good product. Exactly what I wanted, and ...</td>\n",
       "      <td>Greattttttt</td>\n",
       "      <td>Positive</td>\n",
       "    </tr>\n",
       "    <tr>\n",
       "      <th>4</th>\n",
       "      <td>Brand New Amazon Kindle Fire 16gb 7\" Ips Displ...</td>\n",
       "      <td>Amazon</td>\n",
       "      <td>Computers/Tablets &amp; Networking,Tablets &amp; eBook...</td>\n",
       "      <td>Electronics</td>\n",
       "      <td>2017-01-23T00:00:00.000Z</td>\n",
       "      <td>This is the 3rd one I've purchased. I've bough...</td>\n",
       "      <td>Very durable!</td>\n",
       "      <td>Positive</td>\n",
       "    </tr>\n",
       "    <tr>\n",
       "      <th>...</th>\n",
       "      <td>...</td>\n",
       "      <td>...</td>\n",
       "      <td>...</td>\n",
       "      <td>...</td>\n",
       "      <td>...</td>\n",
       "      <td>...</td>\n",
       "      <td>...</td>\n",
       "      <td>...</td>\n",
       "    </tr>\n",
       "    <tr>\n",
       "      <th>3995</th>\n",
       "      <td>Amazon - Echo Plus w/ Built-In Hub - Silver</td>\n",
       "      <td>Amazon</td>\n",
       "      <td>Amazon Echo,Smart Home,Networking,Home &amp; Tools...</td>\n",
       "      <td>Electronics,Hardware</td>\n",
       "      <td>2017-12-08T00:00:00.000Z</td>\n",
       "      <td>It‚Äôs fun for the family to play with, but it...</td>\n",
       "      <td>Fun toy</td>\n",
       "      <td>Positive</td>\n",
       "    </tr>\n",
       "    <tr>\n",
       "      <th>3996</th>\n",
       "      <td>Amazon Kindle E-Reader 6\" Wifi (8th Generation...</td>\n",
       "      <td>Amazon</td>\n",
       "      <td>Computers,Electronics Features,Tablets,Electro...</td>\n",
       "      <td>Electronics</td>\n",
       "      <td>2017-03-31T00:00:00.000Z</td>\n",
       "      <td>I love the Kindle, it is a great product. It r...</td>\n",
       "      <td>Great Product</td>\n",
       "      <td>Positive</td>\n",
       "    </tr>\n",
       "    <tr>\n",
       "      <th>3997</th>\n",
       "      <td>Amazon Tap - Alexa-Enabled Portable Bluetooth ...</td>\n",
       "      <td>Amazon</td>\n",
       "      <td>Amazon Echo,Home Theater &amp; Audio,MP3 MP4 Playe...</td>\n",
       "      <td>Electronics</td>\n",
       "      <td>2017-01-19T00:00:00.000Z</td>\n",
       "      <td>I was looking for a blutooth speaker to use wi...</td>\n",
       "      <td>Great \"dumb\" speaker</td>\n",
       "      <td>Positive</td>\n",
       "    </tr>\n",
       "    <tr>\n",
       "      <th>3998</th>\n",
       "      <td>Brand New Amazon Kindle Fire 16gb 7\" Ips Displ...</td>\n",
       "      <td>Amazon</td>\n",
       "      <td>Computers/Tablets &amp; Networking,Tablets &amp; eBook...</td>\n",
       "      <td>Electronics</td>\n",
       "      <td>2016-05-27T00:00:00.000Z</td>\n",
       "      <td>This is the second Amazon Fire 7 tablet I have...</td>\n",
       "      <td>A great 7 inch tablet at a great price</td>\n",
       "      <td>Positive</td>\n",
       "    </tr>\n",
       "    <tr>\n",
       "      <th>3999</th>\n",
       "      <td>All-New Fire HD 8 Tablet, 8\" HD Display, Wi-Fi...</td>\n",
       "      <td>Amazon</td>\n",
       "      <td>Electronics,iPad &amp; Tablets,All Tablets,Fire Ta...</td>\n",
       "      <td>Electronics</td>\n",
       "      <td>2016-12-30T00:00:00.000Z</td>\n",
       "      <td>very satisfied with tablet, very fast and effi...</td>\n",
       "      <td>Gets the job done</td>\n",
       "      <td>Positive</td>\n",
       "    </tr>\n",
       "  </tbody>\n",
       "</table>\n",
       "<p>4000 rows × 8 columns</p>\n",
       "</div>\n",
       "      <button class=\"colab-df-convert\" onclick=\"convertToInteractive('df-487d23b6-7f83-49c0-aa75-56a1c52cf327')\"\n",
       "              title=\"Convert this dataframe to an interactive table.\"\n",
       "              style=\"display:none;\">\n",
       "        \n",
       "  <svg xmlns=\"http://www.w3.org/2000/svg\" height=\"24px\"viewBox=\"0 0 24 24\"\n",
       "       width=\"24px\">\n",
       "    <path d=\"M0 0h24v24H0V0z\" fill=\"none\"/>\n",
       "    <path d=\"M18.56 5.44l.94 2.06.94-2.06 2.06-.94-2.06-.94-.94-2.06-.94 2.06-2.06.94zm-11 1L8.5 8.5l.94-2.06 2.06-.94-2.06-.94L8.5 2.5l-.94 2.06-2.06.94zm10 10l.94 2.06.94-2.06 2.06-.94-2.06-.94-.94-2.06-.94 2.06-2.06.94z\"/><path d=\"M17.41 7.96l-1.37-1.37c-.4-.4-.92-.59-1.43-.59-.52 0-1.04.2-1.43.59L10.3 9.45l-7.72 7.72c-.78.78-.78 2.05 0 2.83L4 21.41c.39.39.9.59 1.41.59.51 0 1.02-.2 1.41-.59l7.78-7.78 2.81-2.81c.8-.78.8-2.07 0-2.86zM5.41 20L4 18.59l7.72-7.72 1.47 1.35L5.41 20z\"/>\n",
       "  </svg>\n",
       "      </button>\n",
       "      \n",
       "  <style>\n",
       "    .colab-df-container {\n",
       "      display:flex;\n",
       "      flex-wrap:wrap;\n",
       "      gap: 12px;\n",
       "    }\n",
       "\n",
       "    .colab-df-convert {\n",
       "      background-color: #E8F0FE;\n",
       "      border: none;\n",
       "      border-radius: 50%;\n",
       "      cursor: pointer;\n",
       "      display: none;\n",
       "      fill: #1967D2;\n",
       "      height: 32px;\n",
       "      padding: 0 0 0 0;\n",
       "      width: 32px;\n",
       "    }\n",
       "\n",
       "    .colab-df-convert:hover {\n",
       "      background-color: #E2EBFA;\n",
       "      box-shadow: 0px 1px 2px rgba(60, 64, 67, 0.3), 0px 1px 3px 1px rgba(60, 64, 67, 0.15);\n",
       "      fill: #174EA6;\n",
       "    }\n",
       "\n",
       "    [theme=dark] .colab-df-convert {\n",
       "      background-color: #3B4455;\n",
       "      fill: #D2E3FC;\n",
       "    }\n",
       "\n",
       "    [theme=dark] .colab-df-convert:hover {\n",
       "      background-color: #434B5C;\n",
       "      box-shadow: 0px 1px 3px 1px rgba(0, 0, 0, 0.15);\n",
       "      filter: drop-shadow(0px 1px 2px rgba(0, 0, 0, 0.3));\n",
       "      fill: #FFFFFF;\n",
       "    }\n",
       "  </style>\n",
       "\n",
       "      <script>\n",
       "        const buttonEl =\n",
       "          document.querySelector('#df-487d23b6-7f83-49c0-aa75-56a1c52cf327 button.colab-df-convert');\n",
       "        buttonEl.style.display =\n",
       "          google.colab.kernel.accessAllowed ? 'block' : 'none';\n",
       "\n",
       "        async function convertToInteractive(key) {\n",
       "          const element = document.querySelector('#df-487d23b6-7f83-49c0-aa75-56a1c52cf327');\n",
       "          const dataTable =\n",
       "            await google.colab.kernel.invokeFunction('convertToInteractive',\n",
       "                                                     [key], {});\n",
       "          if (!dataTable) return;\n",
       "\n",
       "          const docLinkHtml = 'Like what you see? Visit the ' +\n",
       "            '<a target=\"_blank\" href=https://colab.research.google.com/notebooks/data_table.ipynb>data table notebook</a>'\n",
       "            + ' to learn more about interactive tables.';\n",
       "          element.innerHTML = '';\n",
       "          dataTable['output_type'] = 'display_data';\n",
       "          await google.colab.output.renderOutput(dataTable, element);\n",
       "          const docLink = document.createElement('div');\n",
       "          docLink.innerHTML = docLinkHtml;\n",
       "          element.appendChild(docLink);\n",
       "        }\n",
       "      </script>\n",
       "    </div>\n",
       "  </div>\n",
       "  "
      ],
      "text/plain": [
       "                                                   name   brand  \\\n",
       "0     All-New Fire HD 8 Tablet, 8\" HD Display, Wi-Fi...  Amazon   \n",
       "1           Amazon - Echo Plus w/ Built-In Hub - Silver  Amazon   \n",
       "2     Amazon Echo Show Alexa-enabled Bluetooth Speak...  Amazon   \n",
       "3     Fire HD 10 Tablet, 10.1 HD Display, Wi-Fi, 16 ...  Amazon   \n",
       "4     Brand New Amazon Kindle Fire 16gb 7\" Ips Displ...  Amazon   \n",
       "...                                                 ...     ...   \n",
       "3995        Amazon - Echo Plus w/ Built-In Hub - Silver  Amazon   \n",
       "3996  Amazon Kindle E-Reader 6\" Wifi (8th Generation...  Amazon   \n",
       "3997  Amazon Tap - Alexa-Enabled Portable Bluetooth ...  Amazon   \n",
       "3998  Brand New Amazon Kindle Fire 16gb 7\" Ips Displ...  Amazon   \n",
       "3999  All-New Fire HD 8 Tablet, 8\" HD Display, Wi-Fi...  Amazon   \n",
       "\n",
       "                                             categories  \\\n",
       "0     Electronics,iPad & Tablets,All Tablets,Fire Ta...   \n",
       "1     Amazon Echo,Smart Home,Networking,Home & Tools...   \n",
       "2     Amazon Echo,Virtual Assistant Speakers,Electro...   \n",
       "3     eBook Readers,Fire Tablets,Electronics Feature...   \n",
       "4     Computers/Tablets & Networking,Tablets & eBook...   \n",
       "...                                                 ...   \n",
       "3995  Amazon Echo,Smart Home,Networking,Home & Tools...   \n",
       "3996  Computers,Electronics Features,Tablets,Electro...   \n",
       "3997  Amazon Echo,Home Theater & Audio,MP3 MP4 Playe...   \n",
       "3998  Computers/Tablets & Networking,Tablets & eBook...   \n",
       "3999  Electronics,iPad & Tablets,All Tablets,Fire Ta...   \n",
       "\n",
       "                primaryCategories              reviews.date  \\\n",
       "0                     Electronics  2016-12-26T00:00:00.000Z   \n",
       "1            Electronics,Hardware  2018-01-17T00:00:00.000Z   \n",
       "2            Electronics,Hardware  2017-12-20T00:00:00.000Z   \n",
       "3     Office Supplies,Electronics  2017-08-04T00:00:00.000Z   \n",
       "4                     Electronics  2017-01-23T00:00:00.000Z   \n",
       "...                           ...                       ...   \n",
       "3995         Electronics,Hardware  2017-12-08T00:00:00.000Z   \n",
       "3996                  Electronics  2017-03-31T00:00:00.000Z   \n",
       "3997                  Electronics  2017-01-19T00:00:00.000Z   \n",
       "3998                  Electronics  2016-05-27T00:00:00.000Z   \n",
       "3999                  Electronics  2016-12-30T00:00:00.000Z   \n",
       "\n",
       "                                           reviews.text  \\\n",
       "0     Purchased on Black FridayPros - Great Price (e...   \n",
       "1     I purchased two Amazon in Echo Plus and two do...   \n",
       "2     Just an average Alexa option. Does show a few ...   \n",
       "3     very good product. Exactly what I wanted, and ...   \n",
       "4     This is the 3rd one I've purchased. I've bough...   \n",
       "...                                                 ...   \n",
       "3995  It‚Äôs fun for the family to play with, but it...   \n",
       "3996  I love the Kindle, it is a great product. It r...   \n",
       "3997  I was looking for a blutooth speaker to use wi...   \n",
       "3998  This is the second Amazon Fire 7 tablet I have...   \n",
       "3999  very satisfied with tablet, very fast and effi...   \n",
       "\n",
       "                               reviews.title sentiment  \n",
       "0                            Powerful tablet  Positive  \n",
       "1                   Amazon Echo Plus AWESOME  Positive  \n",
       "2                                    Average   Neutral  \n",
       "3                                Greattttttt  Positive  \n",
       "4                              Very durable!  Positive  \n",
       "...                                      ...       ...  \n",
       "3995                                 Fun toy  Positive  \n",
       "3996                           Great Product  Positive  \n",
       "3997                    Great \"dumb\" speaker  Positive  \n",
       "3998  A great 7 inch tablet at a great price  Positive  \n",
       "3999                       Gets the job done  Positive  \n",
       "\n",
       "[4000 rows x 8 columns]"
      ]
     },
     "execution_count": 79,
     "metadata": {},
     "output_type": "execute_result"
    }
   ],
   "source": [
    "data"
   ]
  },
  {
   "cell_type": "code",
   "execution_count": 80,
   "metadata": {
    "id": "yPNoda6959tl"
   },
   "outputs": [],
   "source": [
    "a = data[\"sentiment\"].value_counts()"
   ]
  },
  {
   "cell_type": "code",
   "execution_count": 81,
   "metadata": {
    "colab": {
     "base_uri": "https://localhost:8080/",
     "height": 466
    },
    "id": "kxTZ-sg85942",
    "outputId": "e0334582-ba28-4152-c65c-0adee680bc1a"
   },
   "outputs": [
    {
     "data": {
      "image/png": "[encoded data removed]",
      "text/plain": [
       "<Figure size 576x576 with 1 Axes>"
      ]
     },
     "metadata": {},
     "output_type": "display_data"
    }
   ],
   "source": [
    "labels = [a.index[i] for i in range(len(a))]\n",
    "values = a.values\n",
    "plt.figure(figsize=(8,8))\n",
    "plt.pie(values,labels=labels)\n",
    "plt.show()"
   ]
  },
  {
   "cell_type": "code",
   "execution_count": 81,
   "metadata": {
    "id": "zs19aJ6Y5-J7"
   },
   "outputs": [],
   "source": []
  },
  {
   "cell_type": "code",
   "execution_count": 82,
   "metadata": {
    "id": "i3CqBW6NPPnn"
   },
   "outputs": [],
   "source": [
    "import gensim"
   ]
  },
  {
   "cell_type": "code",
   "execution_count": 83,
   "metadata": {
    "id": "1ngE0JTdPPqd"
   },
   "outputs": [],
   "source": [
    "from gensim.utils import simple_preprocess as sp "
   ]
  },
  {
   "cell_type": "code",
   "execution_count": 84,
   "metadata": {
    "id": "-krDKNDJPPwe"
   },
   "outputs": [],
   "source": [
    "text = data[\"reviews.text\"]"
   ]
  },
  {
   "cell_type": "code",
   "execution_count": 85,
   "metadata": {
    "colab": {
     "base_uri": "https://localhost:8080/",
     "height": 0
    },
    "id": "FCP1ckp1PPzZ",
    "outputId": "8a858f77-e530-455e-9a54-8147ea160e2f"
   },
   "outputs": [
    {
     "data": {
      "text/plain": [
       "0       Purchased on Black FridayPros - Great Price (e...\n",
       "1       I purchased two Amazon in Echo Plus and two do...\n",
       "2       Just an average Alexa option. Does show a few ...\n",
       "3       very good product. Exactly what I wanted, and ...\n",
       "4       This is the 3rd one I've purchased. I've bough...\n",
       "                              ...                        \n",
       "3995    It‚Äôs fun for the family to play with, but it...\n",
       "3996    I love the Kindle, it is a great product. It r...\n",
       "3997    I was looking for a blutooth speaker to use wi...\n",
       "3998    This is the second Amazon Fire 7 tablet I have...\n",
       "3999    very satisfied with tablet, very fast and effi...\n",
       "Name: reviews.text, Length: 4000, dtype: object"
      ]
     },
     "execution_count": 85,
     "metadata": {},
     "output_type": "execute_result"
    }
   ],
   "source": [
    "text"
   ]
  },
  {
   "cell_type": "code",
   "execution_count": 86,
   "metadata": {
    "id": "cjKdUmN9PP2o"
   },
   "outputs": [],
   "source": [
    "processed_text = [sp(a) for a in text]"
   ]
  },
  {
   "cell_type": "code",
   "execution_count": 87,
   "metadata": {
    "colab": {
     "base_uri": "https://localhost:8080/",
     "height": 0
    },
    "id": "5_mNdOHEftpY",
    "outputId": "549cfc37-d9be-4f94-bbb3-d6ffbd56f938"
   },
   "outputs": [
    {
     "name": "stdout",
     "output_type": "stream",
     "text": [
      "[nltk_data] Downloading package stopwords to /root/nltk_data...\n",
      "[nltk_data]   Package stopwords is already up-to-date!\n"
     ]
    },
    {
     "data": {
      "text/plain": [
       "True"
      ]
     },
     "execution_count": 87,
     "metadata": {},
     "output_type": "execute_result"
    }
   ],
   "source": [
    "import nltk\n",
    "nltk.download('stopwords')"
   ]
  },
  {
   "cell_type": "code",
   "execution_count": 88,
   "metadata": {
    "id": "GIWmDT81fRRv"
   },
   "outputs": [],
   "source": [
    "from nltk.corpus import stopwords\n",
    "stop_words = stopwords.words(\"english\")"
   ]
  },
  {
   "cell_type": "code",
   "execution_count": 89,
   "metadata": {
    "id": "_2ErxSckgetE"
   },
   "outputs": [],
   "source": [
    "def remove_stopwords(words):\n",
    "  ans = [ i for i in words if i not in stop_words] \n",
    "  ans = \" \".join(ans)\n",
    "  return ans"
   ]
  },
  {
   "cell_type": "code",
   "execution_count": 90,
   "metadata": {
    "id": "sOvVxGaeAUNg"
   },
   "outputs": [],
   "source": [
    "processed_text = [ remove_stopwords(i) for i in processed_text ]"
   ]
  },
  {
   "cell_type": "code",
   "execution_count": 91,
   "metadata": {
    "colab": {
     "base_uri": "https://localhost:8080/",
     "height": 0
    },
    "id": "EHIh_jzdPP8X",
    "outputId": "6ffbe1b5-bd61-4138-c146-5f514402df1c"
   },
   "outputs": [
    {
     "data": {
      "text/plain": [
       "4000"
      ]
     },
     "execution_count": 91,
     "metadata": {},
     "output_type": "execute_result"
    }
   ],
   "source": [
    "len(processed_text)"
   ]
  },
  {
   "cell_type": "code",
   "execution_count": 92,
   "metadata": {
    "id": "JAgyfOWoPP_L"
   },
   "outputs": [],
   "source": [
    "from sklearn.feature_extraction.text import TfidfVectorizer"
   ]
  },
  {
   "cell_type": "code",
   "execution_count": 93,
   "metadata": {
    "id": "86e1GSZkFP6b"
   },
   "outputs": [],
   "source": [
    "tf_idf  = TfidfVectorizer()\n",
    "x = tf_idf.fit_transform(processed_text)"
   ]
  },
  {
   "cell_type": "code",
   "execution_count": 94,
   "metadata": {
    "colab": {
     "base_uri": "https://localhost:8080/",
     "height": 0
    },
    "id": "r45sfbv1q_1M",
    "outputId": "e9fec97e-1092-4f01-c152-22b5277302d9"
   },
   "outputs": [
    {
     "data": {
      "text/plain": [
       "(4000, 4639)"
      ]
     },
     "execution_count": 94,
     "metadata": {},
     "output_type": "execute_result"
    }
   ],
   "source": [
    "x.shape"
   ]
  },
  {
   "cell_type": "code",
   "execution_count": 95,
   "metadata": {
    "id": "27-jk6d7FhsT"
   },
   "outputs": [],
   "source": [
    "from sklearn.naive_bayes import MultinomialNB\n",
    "clf = MultinomialNB()"
   ]
  },
  {
   "cell_type": "code",
   "execution_count": 96,
   "metadata": {
    "id": "kHER0WttFhy5"
   },
   "outputs": [],
   "source": [
    "from sklearn import preprocessing\n",
    "label_encoder = preprocessing.LabelEncoder()\n",
    "data['sentiment']= label_encoder.fit_transform(data['sentiment'])  "
   ]
  },
  {
   "cell_type": "code",
   "execution_count": 97,
   "metadata": {
    "colab": {
     "base_uri": "https://localhost:8080/",
     "height": 0
    },
    "id": "0oCmTEBRNM-X",
    "outputId": "d46a0343-34fe-4936-c754-c4e14b82c999"
   },
   "outputs": [
    {
     "data": {
      "text/plain": [
       "array([2, 1, 0])"
      ]
     },
     "execution_count": 97,
     "metadata": {},
     "output_type": "execute_result"
    }
   ],
   "source": [
    "data[\"sentiment\"].unique()"
   ]
  },
  {
   "cell_type": "code",
   "execution_count": 98,
   "metadata": {
    "id": "pmlGhoQZFh2W"
   },
   "outputs": [],
   "source": [
    "y = data.iloc[:,-1]"
   ]
  },
  {
   "cell_type": "code",
   "execution_count": 99,
   "metadata": {
    "id": "WY9p73vEsn2p"
   },
   "outputs": [],
   "source": [
    "from sklearn.model_selection import train_test_split"
   ]
  },
  {
   "cell_type": "code",
   "execution_count": 100,
   "metadata": {
    "id": "LuZ1iDB7sdKn"
   },
   "outputs": [],
   "source": [
    "x_train,x_test,y_train, y_test = train_test_split(x,y,test_size = 0.2,random_state=42)"
   ]
  },
  {
   "cell_type": "code",
   "execution_count": 101,
   "metadata": {
    "colab": {
     "base_uri": "https://localhost:8080/",
     "height": 0
    },
    "id": "U41WQOX-pTEM",
    "outputId": "c049e297-ffe0-4614-8bcf-c7cd11596ac8"
   },
   "outputs": [
    {
     "name": "stdout",
     "output_type": "stream",
     "text": [
      "(3200, 4639)\n",
      "(3200,)\n"
     ]
    }
   ],
   "source": [
    "print(x_train.shape)\n",
    "print(y_train.shape)"
   ]
  },
  {
   "cell_type": "code",
   "execution_count": 102,
   "metadata": {
    "colab": {
     "base_uri": "https://localhost:8080/",
     "height": 0
    },
    "id": "do8S6KEWpC72",
    "outputId": "74edbf3b-31fc-4f54-9b93-e8b8bde46bce"
   },
   "outputs": [
    {
     "data": {
      "text/plain": [
       "MultinomialNB()"
      ]
     },
     "execution_count": 102,
     "metadata": {},
     "output_type": "execute_result"
    }
   ],
   "source": [
    "clf.fit(x_train,y_train)"
   ]
  },
  {
   "cell_type": "code",
   "execution_count": 103,
   "metadata": {
    "id": "otVR4t1CpC-v"
   },
   "outputs": [],
   "source": [
    "y_pred = clf.predict(x_test)"
   ]
  },
  {
   "cell_type": "code",
   "execution_count": 104,
   "metadata": {
    "id": "HqFGMA2NpDBm"
   },
   "outputs": [],
   "source": [
    "from sklearn.metrics import confusion_matrix,accuracy_score,f1_score,precision_score,roc_auc_score,recall_score,roc_curve"
   ]
  },
  {
   "cell_type": "code",
   "execution_count": 105,
   "metadata": {
    "id": "hxpH-3qApDFI"
   },
   "outputs": [],
   "source": [
    "cf = confusion_matrix(y_test,y_pred)"
   ]
  },
  {
   "cell_type": "code",
   "execution_count": 106,
   "metadata": {
    "colab": {
     "base_uri": "https://localhost:8080/",
     "height": 0
    },
    "id": "Dxa14HUGuRAj",
    "outputId": "5ba72b15-b071-4655-a1af-6722483ecac4"
   },
   "outputs": [
    {
     "name": "stdout",
     "output_type": "stream",
     "text": [
      "[[  0   0  13]\n",
      " [  0   0  36]\n",
      " [  0   0 751]]\n"
     ]
    }
   ],
   "source": [
    "print(cf)"
   ]
  },
  {
   "cell_type": "code",
   "execution_count": 107,
   "metadata": {
    "colab": {
     "base_uri": "https://localhost:8080/",
     "height": 0
    },
    "id": "MNe4QltBuVW_",
    "outputId": "99340518-855f-4d72-92b3-2fbfed0057b2"
   },
   "outputs": [
    {
     "name": "stdout",
     "output_type": "stream",
     "text": [
      "Accuracy Score is: 93.875\n"
     ]
    }
   ],
   "source": [
    "print(\"Accuracy Score is:\",accuracy_score(y_test,y_pred)*100)"
   ]
  },
  {
   "cell_type": "code",
   "execution_count": 108,
   "metadata": {
    "colab": {
     "base_uri": "https://localhost:8080/",
     "height": 0
    },
    "id": "XJNwZoCJuorV",
    "outputId": "14d01aa5-cc24-40ab-c1d1-601e76ef6449"
   },
   "outputs": [
    {
     "name": "stdout",
     "output_type": "stream",
     "text": [
      "Recall Score is: [  0.   0. 100.]\n"
     ]
    }
   ],
   "source": [
    "print(\"Recall Score is:\",recall_score(y_test,y_pred,average = None)*100)"
   ]
  },
  {
   "cell_type": "code",
   "execution_count": 109,
   "metadata": {
    "colab": {
     "base_uri": "https://localhost:8080/",
     "height": 0
    },
    "id": "EA1uii0Nuov9",
    "outputId": "36a59b80-fa1e-4f39-ad64-8085a73a2353"
   },
   "outputs": [
    {
     "name": "stdout",
     "output_type": "stream",
     "text": [
      "F1 Score is: [ 0.         0.        96.8407479]\n"
     ]
    }
   ],
   "source": [
    "print(\"F1 Score is:\",f1_score(y_test,y_pred, average = None)*100)"
   ]
  },
  {
   "cell_type": "code",
   "execution_count": 110,
   "metadata": {
    "colab": {
     "base_uri": "https://localhost:8080/",
     "height": 0
    },
    "id": "uLvrZ9zQuo2J",
    "outputId": "9936726f-f478-4116-cf35-56a4feefeb65"
   },
   "outputs": [
    {
     "name": "stdout",
     "output_type": "stream",
     "text": [
      "Precision Score is: [ 0.     0.    93.875]\n"
     ]
    },
    {
     "name": "stderr",
     "output_type": "stream",
     "text": [
      "/usr/local/lib/python3.7/dist-packages/sklearn/metrics/_classification.py:1318: UndefinedMetricWarning: Precision is ill-defined and being set to 0.0 in labels with no predicted samples. Use `zero_division` parameter to control this behavior.\n",
      "  _warn_prf(average, modifier, msg_start, len(result))\n"
     ]
    }
   ],
   "source": [
    "print(\"Precision Score is:\",precision_score(y_test,y_pred,average = None)*100)"
   ]
  },
  {
   "cell_type": "code",
   "execution_count": 111,
   "metadata": {
    "colab": {
     "base_uri": "https://localhost:8080/",
     "height": 0
    },
    "id": "Weoza9kfuo7C",
    "outputId": "c2a2ada8-7ac3-478c-df8d-8dafd0cf0dc5"
   },
   "outputs": [
    {
     "name": "stdout",
     "output_type": "stream",
     "text": [
      "ROC-AUC Score is: 0.7142770349664445\n"
     ]
    }
   ],
   "source": [
    "y_pred_prob = clf.predict_proba(x_test)\n",
    "print(\"ROC-AUC Score is:\",roc_auc_score( y_test,y_pred_prob, multi_class=\"ovr\", average='weighted'))"
   ]
  },
  {
   "cell_type": "code",
   "execution_count": 112,
   "metadata": {
    "colab": {
     "base_uri": "https://localhost:8080/",
     "height": 893
    },
    "id": "L-QISLdJMk0l",
    "outputId": "c909e461-7569-49f0-8ff0-8e4f52a39a61"
   },
   "outputs": [
    {
     "data": {
      "image/png": "[encoded data removed]",
      "text/plain": [
       "<Figure size 720x1080 with 1 Axes>"
      ]
     },
     "metadata": {
      "needs_background": "light"
     },
     "output_type": "display_data"
    }
   ],
   "source": [
    "fpr = {}\n",
    "tpr = {}\n",
    "thresh ={}\n",
    "\n",
    "n_class = 3\n",
    "for i in range(n_class):    \n",
    "    fpr[i], tpr[i], thresh[i] = roc_curve(y_test, y_pred_prob[:,i], pos_label=i)\n",
    "    \n",
    "# plotting    \n",
    "plt.figure(figsize=(10,15))\n",
    "plt.plot(fpr[0], tpr[0], linestyle='--',color='orange', label='Class 0 vs Rest')\n",
    "plt.plot(fpr[1], tpr[1], linestyle='--',color='green', label='Class 1 vs Rest')\n",
    "plt.plot(fpr[2], tpr[2], linestyle='--',color='blue', label='Class 2 vs Rest')\n",
    "\n",
    "plt.title('Multiclass ROC curve')\n",
    "plt.xlabel('False Positive Rate')\n",
    "plt.ylabel('True Positive rate')\n",
    "plt.legend(loc='best')\n",
    "plt.savefig('Multiclass ROC',dpi=300);    "
   ]
  },
  {
   "cell_type": "markdown",
   "metadata": {
    "id": "hl_Bb4gbPBlh"
   },
   "source": [
    "TREE BASED CLASSIFIER\n"
   ]
  },
  {
   "cell_type": "code",
   "execution_count": 113,
   "metadata": {
    "id": "WoISq0ILMk3X"
   },
   "outputs": [],
   "source": [
    "from sklearn.ensemble import GradientBoostingClassifier\n",
    "classifier = GradientBoostingClassifier()"
   ]
  },
  {
   "cell_type": "code",
   "execution_count": 114,
   "metadata": {
    "colab": {
     "base_uri": "https://localhost:8080/",
     "height": 0
    },
    "id": "nofgQgnlMk6E",
    "outputId": "b48f8e9c-9afc-4485-a9f9-fbd80000663b"
   },
   "outputs": [
    {
     "name": "stdout",
     "output_type": "stream",
     "text": [
      "{'learning_rate': 0.1}\n"
     ]
    }
   ],
   "source": [
    "from sklearn.model_selection import GridSearchCV\n",
    "param_grid  = {'learning_rate':[0.01,0.1,1],}\n",
    "grid = GridSearchCV(classifier, param_grid,scoring='accuracy', return_train_score=False)\n",
    "grid.fit(x_train,y_train)\n",
    "print(grid.best_params_)"
   ]
  },
  {
   "cell_type": "code",
   "execution_count": 115,
   "metadata": {
    "colab": {
     "base_uri": "https://localhost:8080/",
     "height": 0
    },
    "id": "U7lUpU5cMk88",
    "outputId": "e3dae1c3-f560-4427-bc83-e529b7812402"
   },
   "outputs": [
    {
     "data": {
      "text/plain": [
       "GradientBoostingClassifier()"
      ]
     },
     "execution_count": 115,
     "metadata": {},
     "output_type": "execute_result"
    }
   ],
   "source": [
    "classifier = GradientBoostingClassifier(learning_rate= 0.1)\n",
    "classifier.fit(x_train, y_train)"
   ]
  },
  {
   "cell_type": "code",
   "execution_count": 116,
   "metadata": {
    "id": "T-SqMT6QMk_s"
   },
   "outputs": [],
   "source": [
    "y_pred = classifier.predict(x_test)"
   ]
  },
  {
   "cell_type": "code",
   "execution_count": 117,
   "metadata": {
    "colab": {
     "base_uri": "https://localhost:8080/",
     "height": 351
    },
    "id": "UiKELOaVMlCr",
    "outputId": "acd7beba-62a1-43d5-f804-be3e78274a5a"
   },
   "outputs": [
    {
     "name": "stderr",
     "output_type": "stream",
     "text": [
      "/usr/local/lib/python3.7/dist-packages/sklearn/utils/deprecation.py:87: FutureWarning: Function plot_confusion_matrix is deprecated; Function `plot_confusion_matrix` is deprecated in 1.0 and will be removed in 1.2. Use one of the class methods: ConfusionMatrixDisplay.from_predictions or ConfusionMatrixDisplay.from_estimator.\n",
      "  warnings.warn(msg, category=FutureWarning)\n"
     ]
    },
    {
     "data": {
      "text/plain": [
       "<sklearn.metrics._plot.confusion_matrix.ConfusionMatrixDisplay at 0x7f86ad041850>"
      ]
     },
     "execution_count": 117,
     "metadata": {},
     "output_type": "execute_result"
    },
    {
     "data": {
      "image/png": "[encoded data removed]",
      "text/plain": [
       "<Figure size 432x288 with 2 Axes>"
      ]
     },
     "metadata": {
      "needs_background": "light"
     },
     "output_type": "display_data"
    }
   ],
   "source": [
    "from sklearn.metrics import plot_confusion_matrix\n",
    "plot_confusion_matrix(classifier, x_test, y_test)"
   ]
  },
  {
   "cell_type": "code",
   "execution_count": 118,
   "metadata": {
    "colab": {
     "base_uri": "https://localhost:8080/",
     "height": 0
    },
    "id": "zDfsuec7MlFu",
    "outputId": "dd2a3c35-e6b7-41f2-f551-8039e047821c"
   },
   "outputs": [
    {
     "name": "stdout",
     "output_type": "stream",
     "text": [
      "              precision    recall  f1-score   support\n",
      "\n",
      "           0       0.86      0.46      0.60        13\n",
      "           1       0.50      0.08      0.14        36\n",
      "           2       0.95      1.00      0.97       751\n",
      "\n",
      "    accuracy                           0.95       800\n",
      "   macro avg       0.77      0.51      0.57       800\n",
      "weighted avg       0.93      0.95      0.93       800\n",
      "\n"
     ]
    }
   ],
   "source": [
    "from sklearn.metrics import classification_report\n",
    "print(classification_report(y_test, y_pred))"
   ]
  },
  {
   "cell_type": "code",
   "execution_count": 119,
   "metadata": {
    "colab": {
     "base_uri": "https://localhost:8080/",
     "height": 0
    },
    "id": "1NY-utWcMlIS",
    "outputId": "d532417f-6675-4494-f5eb-dceada02ee6c"
   },
   "outputs": [
    {
     "name": "stdout",
     "output_type": "stream",
     "text": [
      "ROC-AUC Score is: 0.7917798173092158\n"
     ]
    }
   ],
   "source": [
    "y_pred_prob = classifier.predict_proba(x_test)\n",
    "print(\"ROC-AUC Score is:\",roc_auc_score( y_test,y_pred_prob, multi_class=\"ovr\", average='weighted'))"
   ]
  },
  {
   "cell_type": "markdown",
   "metadata": {
    "id": "WH0r9GbnWOFQ"
   },
   "source": []
  },
  {
   "cell_type": "markdown",
   "metadata": {
    "id": "vfmW1cC6Y9Hd"
   },
   "source": [
    "XGBOOST\n"
   ]
  },
  {
   "cell_type": "code",
   "execution_count": 120,
   "metadata": {
    "id": "Nrjdejn6MlLn"
   },
   "outputs": [],
   "source": [
    "from xgboost import XGBClassifier\n",
    "Classifier = XGBClassifier(n_estimators = 1000, max_depth =10, learning_rate = 0.1)"
   ]
  },
  {
   "cell_type": "code",
   "execution_count": 121,
   "metadata": {
    "colab": {
     "base_uri": "https://localhost:8080/",
     "height": 0
    },
    "id": "0tY94xcCV9bM",
    "outputId": "27f58649-7647-4ff7-9a28-07900ad4b4db"
   },
   "outputs": [
    {
     "data": {
      "text/plain": [
       "XGBClassifier(max_depth=10, n_estimators=1000, objective='multi:softprob')"
      ]
     },
     "execution_count": 121,
     "metadata": {},
     "output_type": "execute_result"
    }
   ],
   "source": [
    "Classifier.fit(x_train, y_train)"
   ]
  },
  {
   "cell_type": "code",
   "execution_count": 122,
   "metadata": {
    "colab": {
     "base_uri": "https://localhost:8080/",
     "height": 351
    },
    "id": "jwQtg2qrMH3m",
    "outputId": "16997e71-c09a-49d8-9fa2-1d7ab33845f2"
   },
   "outputs": [
    {
     "name": "stderr",
     "output_type": "stream",
     "text": [
      "/usr/local/lib/python3.7/dist-packages/sklearn/utils/deprecation.py:87: FutureWarning: Function plot_confusion_matrix is deprecated; Function `plot_confusion_matrix` is deprecated in 1.0 and will be removed in 1.2. Use one of the class methods: ConfusionMatrixDisplay.from_predictions or ConfusionMatrixDisplay.from_estimator.\n",
      "  warnings.warn(msg, category=FutureWarning)\n"
     ]
    },
    {
     "data": {
      "text/plain": [
       "<sklearn.metrics._plot.confusion_matrix.ConfusionMatrixDisplay at 0x7f86a0aa2110>"
      ]
     },
     "execution_count": 122,
     "metadata": {},
     "output_type": "execute_result"
    },
    {
     "data": {
      "image/png": "[encoded data removed]",
      "text/plain": [
       "<Figure size 432x288 with 2 Axes>"
      ]
     },
     "metadata": {
      "needs_background": "light"
     },
     "output_type": "display_data"
    }
   ],
   "source": [
    "y_pred = Classifier.predict(x_test)\n",
    "from sklearn.metrics import plot_confusion_matrix\n",
    "plot_confusion_matrix(Classifier, x_test, y_test)"
   ]
  },
  {
   "cell_type": "code",
   "execution_count": 123,
   "metadata": {
    "colab": {
     "base_uri": "https://localhost:8080/",
     "height": 0
    },
    "id": "Qa12tHNLMH7F",
    "outputId": "ab33d661-dbec-4108-aeba-57a0be26d5fb"
   },
   "outputs": [
    {
     "name": "stdout",
     "output_type": "stream",
     "text": [
      "              precision    recall  f1-score   support\n",
      "\n",
      "           0       0.80      0.62      0.70        13\n",
      "           1       0.75      0.17      0.27        36\n",
      "           2       0.96      0.99      0.97       751\n",
      "\n",
      "    accuracy                           0.95       800\n",
      "   macro avg       0.84      0.59      0.65       800\n",
      "weighted avg       0.94      0.95      0.94       800\n",
      "\n"
     ]
    }
   ],
   "source": [
    "from sklearn.metrics import classification_report\n",
    "print(classification_report(y_test, y_pred))"
   ]
  },
  {
   "cell_type": "code",
   "execution_count": 124,
   "metadata": {
    "colab": {
     "base_uri": "https://localhost:8080/",
     "height": 0
    },
    "id": "jLsCUS2hMH-g",
    "outputId": "7ebb54e5-9683-416e-e876-a3ba0fe40d92"
   },
   "outputs": [
    {
     "name": "stdout",
     "output_type": "stream",
     "text": [
      "ROC-AUC Score is: 0.7992777337872222\n"
     ]
    }
   ],
   "source": [
    "y_pred_prob = Classifier.predict_proba(x_test)\n",
    "print(\"ROC-AUC Score is:\",roc_auc_score( y_test,y_pred_prob, multi_class=\"ovr\", average='weighted'))"
   ]
  },
  {
   "cell_type": "markdown",
   "metadata": {
    "id": "pRvDWXDlZFKm"
   },
   "source": [
    "**MUTLICLASS SVM**\n",
    "\n"
   ]
  },
  {
   "cell_type": "code",
   "execution_count": 125,
   "metadata": {
    "id": "2hYXvFjPMIFG"
   },
   "outputs": [],
   "source": [
    "import tensorflow as tf"
   ]
  },
  {
   "cell_type": "code",
   "execution_count": 126,
   "metadata": {
    "id": "tEIyzNHhab5K"
   },
   "outputs": [],
   "source": [
    "import keras"
   ]
  },
  {
   "cell_type": "code",
   "execution_count": 127,
   "metadata": {
    "id": "iF0OBRd5sKN4"
   },
   "outputs": [],
   "source": [
    "from sklearn.decomposition import TruncatedSVD"
   ]
  },
  {
   "cell_type": "code",
   "execution_count": 128,
   "metadata": {
    "id": "vyID8IqxsO-h"
   },
   "outputs": [],
   "source": [
    "tsvd = TruncatedSVD(n_components=1000)\n",
    "x_sparse_tsvd = tsvd.fit(x).transform(x)"
   ]
  },
  {
   "cell_type": "code",
   "execution_count": 129,
   "metadata": {
    "colab": {
     "base_uri": "https://localhost:8080/",
     "height": 0
    },
    "id": "3pql-5mIsi0D",
    "outputId": "ba3a2405-d19c-4ec7-ca4a-43fba1b3eab5"
   },
   "outputs": [
    {
     "data": {
      "text/plain": [
       "(4000, 1000)"
      ]
     },
     "execution_count": 129,
     "metadata": {},
     "output_type": "execute_result"
    }
   ],
   "source": [
    "x_sparse_tsvd.shape"
   ]
  },
  {
   "cell_type": "code",
   "execution_count": 130,
   "metadata": {
    "id": "UOPe6_ENqlQW"
   },
   "outputs": [],
   "source": [
    "from tensorflow.keras.utils import to_categorical\n",
    "y = to_categorical(y)"
   ]
  },
  {
   "cell_type": "code",
   "execution_count": 131,
   "metadata": {
    "id": "5bfmDolOq56K"
   },
   "outputs": [],
   "source": [
    "x_train,x_test,y_train, y_test = train_test_split(x_sparse_tsvd,y,test_size = 0.2,random_state=42)"
   ]
  },
  {
   "cell_type": "code",
   "execution_count": 132,
   "metadata": {
    "colab": {
     "base_uri": "https://localhost:8080/",
     "height": 0
    },
    "id": "rxwIHWgWs5Cu",
    "outputId": "4d1fe6c7-4e50-4052-a3fb-b258d8dce7d2"
   },
   "outputs": [
    {
     "data": {
      "text/plain": [
       "(3200, 1000)"
      ]
     },
     "execution_count": 132,
     "metadata": {},
     "output_type": "execute_result"
    }
   ],
   "source": [
    "x_train.shape"
   ]
  },
  {
   "cell_type": "code",
   "execution_count": 133,
   "metadata": {
    "colab": {
     "base_uri": "https://localhost:8080/",
     "height": 0
    },
    "id": "IS52zNT4-LD8",
    "outputId": "26c797c6-f263-4660-ed34-3f9f08320976"
   },
   "outputs": [
    {
     "data": {
      "text/plain": [
       "(800, 1000)"
      ]
     },
     "execution_count": 133,
     "metadata": {},
     "output_type": "execute_result"
    }
   ],
   "source": [
    "x_test.shape"
   ]
  },
  {
   "cell_type": "code",
   "execution_count": 134,
   "metadata": {
    "id": "yEbJNwpuaec4"
   },
   "outputs": [],
   "source": [
    "from keras.models import Sequential\n",
    "from keras.layers import Dense,Input\n",
    "from tensorflow.keras.optimizers import SGD"
   ]
  },
  {
   "cell_type": "code",
   "execution_count": 135,
   "metadata": {
    "colab": {
     "base_uri": "https://localhost:8080/",
     "height": 0
    },
    "id": "65CfodJpMIIX",
    "outputId": "a0a8c4c8-4ce2-495f-ce0f-39ff9dc724e1"
   },
   "outputs": [
    {
     "name": "stdout",
     "output_type": "stream",
     "text": [
      "Model: \"sequential_4\"\n",
      "_________________________________________________________________\n",
      " Layer (type)                Output Shape              Param #   \n",
      "=================================================================\n",
      " dense_4 (Dense)             (None, 512)               512512    \n",
      "                                                                 \n",
      " dense_5 (Dense)             (None, 256)               131328    \n",
      "                                                                 \n",
      " dense_6 (Dense)             (None, 3)                 771       \n",
      "                                                                 \n",
      "=================================================================\n",
      "Total params: 644,611\n",
      "Trainable params: 644,611\n",
      "Non-trainable params: 0\n",
      "_________________________________________________________________\n"
     ]
    }
   ],
   "source": [
    "model = Sequential()\n",
    "model.add(Input(shape=(1000)))\n",
    "model.add(Dense(512, activation='relu'))\n",
    "model.add(Dense(256, activation='relu'))\n",
    "model.add(Dense(3, activation='softmax'))\n",
    "loss_fn = keras.losses.CategoricalCrossentropy(from_logits=False)\n",
    "model.compile(optimizer='adam', loss= loss_fn, metrics=['accuracy'])\n",
    "model.summary()"
   ]
  },
  {
   "cell_type": "code",
   "execution_count": 136,
   "metadata": {
    "colab": {
     "base_uri": "https://localhost:8080/",
     "height": 0
    },
    "id": "XstuuS3yMIPN",
    "outputId": "238d0678-9bf6-44e1-886c-1e332112b1dd"
   },
   "outputs": [
    {
     "name": "stdout",
     "output_type": "stream",
     "text": [
      "Epoch 1/100\n",
      "7/7 [==============================] - 1s 31ms/step - loss: 0.9286 - accuracy: 0.8288 - val_loss: 0.6550 - val_accuracy: 0.9388\n",
      "Epoch 2/100\n",
      "7/7 [==============================] - 0s 9ms/step - loss: 0.4890 - accuracy: 0.9369 - val_loss: 0.3098 - val_accuracy: 0.9388\n",
      "Epoch 3/100\n",
      "7/7 [==============================] - 0s 8ms/step - loss: 0.2575 - accuracy: 0.9369 - val_loss: 0.2511 - val_accuracy: 0.9388\n",
      "Epoch 4/100\n",
      "7/7 [==============================] - 0s 8ms/step - loss: 0.2212 - accuracy: 0.9369 - val_loss: 0.2480 - val_accuracy: 0.9388\n",
      "Epoch 5/100\n",
      "7/7 [==============================] - 0s 8ms/step - loss: 0.1867 - accuracy: 0.9369 - val_loss: 0.2252 - val_accuracy: 0.9388\n",
      "Epoch 6/100\n",
      "7/7 [==============================] - 0s 8ms/step - loss: 0.1527 - accuracy: 0.9369 - val_loss: 0.2099 - val_accuracy: 0.9388\n",
      "Epoch 7/100\n",
      "7/7 [==============================] - 0s 8ms/step - loss: 0.1356 - accuracy: 0.9369 - val_loss: 0.2046 - val_accuracy: 0.9388\n",
      "Epoch 8/100\n",
      "7/7 [==============================] - 0s 8ms/step - loss: 0.1246 - accuracy: 0.9369 - val_loss: 0.2041 - val_accuracy: 0.9388\n",
      "Epoch 9/100\n",
      "7/7 [==============================] - 0s 8ms/step - loss: 0.1141 - accuracy: 0.9369 - val_loss: 0.2078 - val_accuracy: 0.9388\n",
      "Epoch 10/100\n",
      "7/7 [==============================] - 0s 9ms/step - loss: 0.1050 - accuracy: 0.9369 - val_loss: 0.2146 - val_accuracy: 0.9388\n",
      "Epoch 11/100\n",
      "7/7 [==============================] - 0s 8ms/step - loss: 0.0978 - accuracy: 0.9369 - val_loss: 0.2208 - val_accuracy: 0.9388\n",
      "Epoch 12/100\n",
      "7/7 [==============================] - 0s 8ms/step - loss: 0.0919 - accuracy: 0.9369 - val_loss: 0.2267 - val_accuracy: 0.9388\n",
      "Epoch 13/100\n",
      "7/7 [==============================] - 0s 8ms/step - loss: 0.0872 - accuracy: 0.9369 - val_loss: 0.2321 - val_accuracy: 0.9388\n",
      "Epoch 14/100\n",
      "7/7 [==============================] - 0s 9ms/step - loss: 0.0832 - accuracy: 0.9369 - val_loss: 0.2375 - val_accuracy: 0.9388\n",
      "Epoch 15/100\n",
      "7/7 [==============================] - 0s 8ms/step - loss: 0.0799 - accuracy: 0.9369 - val_loss: 0.2432 - val_accuracy: 0.9388\n",
      "Epoch 16/100\n",
      "7/7 [==============================] - 0s 9ms/step - loss: 0.0769 - accuracy: 0.9369 - val_loss: 0.2483 - val_accuracy: 0.9388\n",
      "Epoch 17/100\n",
      "7/7 [==============================] - 0s 8ms/step - loss: 0.0741 - accuracy: 0.9369 - val_loss: 0.2541 - val_accuracy: 0.9388\n",
      "Epoch 18/100\n",
      "7/7 [==============================] - 0s 8ms/step - loss: 0.0714 - accuracy: 0.9372 - val_loss: 0.2597 - val_accuracy: 0.9425\n",
      "Epoch 19/100\n",
      "7/7 [==============================] - 0s 8ms/step - loss: 0.0686 - accuracy: 0.9494 - val_loss: 0.2655 - val_accuracy: 0.9463\n",
      "Epoch 20/100\n",
      "7/7 [==============================] - 0s 8ms/step - loss: 0.0655 - accuracy: 0.9600 - val_loss: 0.2707 - val_accuracy: 0.9488\n",
      "Epoch 21/100\n",
      "7/7 [==============================] - 0s 9ms/step - loss: 0.0614 - accuracy: 0.9747 - val_loss: 0.2750 - val_accuracy: 0.9550\n",
      "Epoch 22/100\n",
      "7/7 [==============================] - 0s 8ms/step - loss: 0.0563 - accuracy: 0.9962 - val_loss: 0.2786 - val_accuracy: 0.9550\n",
      "Epoch 23/100\n",
      "7/7 [==============================] - 0s 8ms/step - loss: 0.0497 - accuracy: 1.0000 - val_loss: 0.2801 - val_accuracy: 0.9550\n",
      "Epoch 24/100\n",
      "7/7 [==============================] - 0s 8ms/step - loss: 0.0415 - accuracy: 1.0000 - val_loss: 0.2801 - val_accuracy: 0.9550\n",
      "Epoch 25/100\n",
      "7/7 [==============================] - 0s 8ms/step - loss: 0.0324 - accuracy: 1.0000 - val_loss: 0.2775 - val_accuracy: 0.9550\n",
      "Epoch 26/100\n",
      "7/7 [==============================] - 0s 8ms/step - loss: 0.0226 - accuracy: 1.0000 - val_loss: 0.2743 - val_accuracy: 0.9550\n",
      "Epoch 27/100\n",
      "7/7 [==============================] - 0s 8ms/step - loss: 0.0151 - accuracy: 1.0000 - val_loss: 0.2727 - val_accuracy: 0.9563\n",
      "Epoch 28/100\n",
      "7/7 [==============================] - 0s 10ms/step - loss: 0.0094 - accuracy: 1.0000 - val_loss: 0.2762 - val_accuracy: 0.9575\n",
      "Epoch 29/100\n",
      "7/7 [==============================] - 0s 8ms/step - loss: 0.0061 - accuracy: 1.0000 - val_loss: 0.2843 - val_accuracy: 0.9588\n",
      "Epoch 30/100\n",
      "7/7 [==============================] - 0s 8ms/step - loss: 0.0042 - accuracy: 1.0000 - val_loss: 0.2959 - val_accuracy: 0.9588\n",
      "Epoch 31/100\n",
      "7/7 [==============================] - 0s 8ms/step - loss: 0.0030 - accuracy: 1.0000 - val_loss: 0.3067 - val_accuracy: 0.9600\n",
      "Epoch 32/100\n",
      "7/7 [==============================] - 0s 9ms/step - loss: 0.0023 - accuracy: 1.0000 - val_loss: 0.3154 - val_accuracy: 0.9575\n",
      "Epoch 33/100\n",
      "7/7 [==============================] - 0s 8ms/step - loss: 0.0018 - accuracy: 1.0000 - val_loss: 0.3222 - val_accuracy: 0.9575\n",
      "Epoch 34/100\n",
      "7/7 [==============================] - 0s 8ms/step - loss: 0.0015 - accuracy: 1.0000 - val_loss: 0.3285 - val_accuracy: 0.9575\n",
      "Epoch 35/100\n",
      "7/7 [==============================] - 0s 8ms/step - loss: 0.0013 - accuracy: 1.0000 - val_loss: 0.3336 - val_accuracy: 0.9575\n",
      "Epoch 36/100\n",
      "7/7 [==============================] - 0s 8ms/step - loss: 0.0011 - accuracy: 1.0000 - val_loss: 0.3381 - val_accuracy: 0.9575\n",
      "Epoch 37/100\n",
      "7/7 [==============================] - 0s 8ms/step - loss: 9.5902e-04 - accuracy: 1.0000 - val_loss: 0.3423 - val_accuracy: 0.9575\n",
      "Epoch 38/100\n",
      "7/7 [==============================] - 0s 8ms/step - loss: 8.5012e-04 - accuracy: 1.0000 - val_loss: 0.3461 - val_accuracy: 0.9575\n",
      "Epoch 39/100\n",
      "7/7 [==============================] - 0s 9ms/step - loss: 7.6138e-04 - accuracy: 1.0000 - val_loss: 0.3493 - val_accuracy: 0.9575\n",
      "Epoch 40/100\n",
      "7/7 [==============================] - 0s 8ms/step - loss: 6.9070e-04 - accuracy: 1.0000 - val_loss: 0.3523 - val_accuracy: 0.9575\n",
      "Epoch 41/100\n",
      "7/7 [==============================] - 0s 8ms/step - loss: 6.2812e-04 - accuracy: 1.0000 - val_loss: 0.3553 - val_accuracy: 0.9563\n",
      "Epoch 42/100\n",
      "7/7 [==============================] - 0s 8ms/step - loss: 5.7392e-04 - accuracy: 1.0000 - val_loss: 0.3582 - val_accuracy: 0.9563\n",
      "Epoch 43/100\n",
      "7/7 [==============================] - 0s 8ms/step - loss: 5.3140e-04 - accuracy: 1.0000 - val_loss: 0.3608 - val_accuracy: 0.9563\n",
      "Epoch 44/100\n",
      "7/7 [==============================] - 0s 8ms/step - loss: 4.8965e-04 - accuracy: 1.0000 - val_loss: 0.3634 - val_accuracy: 0.9563\n",
      "Epoch 45/100\n",
      "7/7 [==============================] - 0s 8ms/step - loss: 4.5524e-04 - accuracy: 1.0000 - val_loss: 0.3659 - val_accuracy: 0.9563\n",
      "Epoch 46/100\n",
      "7/7 [==============================] - 0s 9ms/step - loss: 4.2392e-04 - accuracy: 1.0000 - val_loss: 0.3683 - val_accuracy: 0.9563\n",
      "Epoch 47/100\n",
      "7/7 [==============================] - 0s 8ms/step - loss: 3.9599e-04 - accuracy: 1.0000 - val_loss: 0.3706 - val_accuracy: 0.9563\n",
      "Epoch 48/100\n",
      "7/7 [==============================] - 0s 9ms/step - loss: 3.7140e-04 - accuracy: 1.0000 - val_loss: 0.3725 - val_accuracy: 0.9563\n",
      "Epoch 49/100\n",
      "7/7 [==============================] - 0s 8ms/step - loss: 3.4914e-04 - accuracy: 1.0000 - val_loss: 0.3746 - val_accuracy: 0.9563\n",
      "Epoch 50/100\n",
      "7/7 [==============================] - 0s 8ms/step - loss: 3.2878e-04 - accuracy: 1.0000 - val_loss: 0.3766 - val_accuracy: 0.9563\n",
      "Epoch 51/100\n",
      "7/7 [==============================] - 0s 9ms/step - loss: 3.1058e-04 - accuracy: 1.0000 - val_loss: 0.3787 - val_accuracy: 0.9563\n",
      "Epoch 52/100\n",
      "7/7 [==============================] - 0s 8ms/step - loss: 2.9409e-04 - accuracy: 1.0000 - val_loss: 0.3805 - val_accuracy: 0.9563\n",
      "Epoch 53/100\n",
      "7/7 [==============================] - 0s 8ms/step - loss: 2.7853e-04 - accuracy: 1.0000 - val_loss: 0.3822 - val_accuracy: 0.9563\n",
      "Epoch 54/100\n",
      "7/7 [==============================] - 0s 8ms/step - loss: 2.6398e-04 - accuracy: 1.0000 - val_loss: 0.3838 - val_accuracy: 0.9563\n",
      "Epoch 55/100\n",
      "7/7 [==============================] - 0s 8ms/step - loss: 2.5074e-04 - accuracy: 1.0000 - val_loss: 0.3854 - val_accuracy: 0.9563\n",
      "Epoch 56/100\n",
      "7/7 [==============================] - 0s 8ms/step - loss: 2.3877e-04 - accuracy: 1.0000 - val_loss: 0.3870 - val_accuracy: 0.9563\n",
      "Epoch 57/100\n",
      "7/7 [==============================] - 0s 9ms/step - loss: 2.2754e-04 - accuracy: 1.0000 - val_loss: 0.3885 - val_accuracy: 0.9563\n",
      "Epoch 58/100\n",
      "7/7 [==============================] - 0s 8ms/step - loss: 2.1695e-04 - accuracy: 1.0000 - val_loss: 0.3900 - val_accuracy: 0.9563\n",
      "Epoch 59/100\n",
      "7/7 [==============================] - 0s 8ms/step - loss: 2.0727e-04 - accuracy: 1.0000 - val_loss: 0.3915 - val_accuracy: 0.9563\n",
      "Epoch 60/100\n",
      "7/7 [==============================] - 0s 8ms/step - loss: 1.9829e-04 - accuracy: 1.0000 - val_loss: 0.3930 - val_accuracy: 0.9563\n",
      "Epoch 61/100\n",
      "7/7 [==============================] - 0s 8ms/step - loss: 1.8987e-04 - accuracy: 1.0000 - val_loss: 0.3944 - val_accuracy: 0.9563\n",
      "Epoch 62/100\n",
      "7/7 [==============================] - 0s 8ms/step - loss: 1.8202e-04 - accuracy: 1.0000 - val_loss: 0.3957 - val_accuracy: 0.9575\n",
      "Epoch 63/100\n",
      "7/7 [==============================] - 0s 8ms/step - loss: 1.7487e-04 - accuracy: 1.0000 - val_loss: 0.3970 - val_accuracy: 0.9575\n",
      "Epoch 64/100\n",
      "7/7 [==============================] - 0s 8ms/step - loss: 1.6788e-04 - accuracy: 1.0000 - val_loss: 0.3984 - val_accuracy: 0.9575\n",
      "Epoch 65/100\n",
      "7/7 [==============================] - 0s 9ms/step - loss: 1.6144e-04 - accuracy: 1.0000 - val_loss: 0.3997 - val_accuracy: 0.9575\n",
      "Epoch 66/100\n",
      "7/7 [==============================] - 0s 8ms/step - loss: 1.5553e-04 - accuracy: 1.0000 - val_loss: 0.4011 - val_accuracy: 0.9575\n",
      "Epoch 67/100\n",
      "7/7 [==============================] - 0s 8ms/step - loss: 1.4971e-04 - accuracy: 1.0000 - val_loss: 0.4024 - val_accuracy: 0.9575\n",
      "Epoch 68/100\n",
      "7/7 [==============================] - 0s 8ms/step - loss: 1.4436e-04 - accuracy: 1.0000 - val_loss: 0.4037 - val_accuracy: 0.9575\n",
      "Epoch 69/100\n",
      "7/7 [==============================] - 0s 8ms/step - loss: 1.3919e-04 - accuracy: 1.0000 - val_loss: 0.4049 - val_accuracy: 0.9575\n",
      "Epoch 70/100\n",
      "7/7 [==============================] - 0s 8ms/step - loss: 1.3443e-04 - accuracy: 1.0000 - val_loss: 0.4061 - val_accuracy: 0.9575\n",
      "Epoch 71/100\n",
      "7/7 [==============================] - 0s 8ms/step - loss: 1.2987e-04 - accuracy: 1.0000 - val_loss: 0.4073 - val_accuracy: 0.9575\n",
      "Epoch 72/100\n",
      "7/7 [==============================] - 0s 9ms/step - loss: 1.2561e-04 - accuracy: 1.0000 - val_loss: 0.4083 - val_accuracy: 0.9575\n",
      "Epoch 73/100\n",
      "7/7 [==============================] - 0s 8ms/step - loss: 1.2140e-04 - accuracy: 1.0000 - val_loss: 0.4095 - val_accuracy: 0.9575\n",
      "Epoch 74/100\n",
      "7/7 [==============================] - 0s 8ms/step - loss: 1.1753e-04 - accuracy: 1.0000 - val_loss: 0.4105 - val_accuracy: 0.9575\n",
      "Epoch 75/100\n",
      "7/7 [==============================] - 0s 8ms/step - loss: 1.1377e-04 - accuracy: 1.0000 - val_loss: 0.4116 - val_accuracy: 0.9575\n",
      "Epoch 76/100\n",
      "7/7 [==============================] - 0s 8ms/step - loss: 1.1018e-04 - accuracy: 1.0000 - val_loss: 0.4127 - val_accuracy: 0.9575\n",
      "Epoch 77/100\n",
      "7/7 [==============================] - 0s 8ms/step - loss: 1.0691e-04 - accuracy: 1.0000 - val_loss: 0.4137 - val_accuracy: 0.9575\n",
      "Epoch 78/100\n",
      "7/7 [==============================] - 0s 8ms/step - loss: 1.0362e-04 - accuracy: 1.0000 - val_loss: 0.4148 - val_accuracy: 0.9575\n",
      "Epoch 79/100\n",
      "7/7 [==============================] - 0s 9ms/step - loss: 1.0053e-04 - accuracy: 1.0000 - val_loss: 0.4159 - val_accuracy: 0.9575\n",
      "Epoch 80/100\n",
      "7/7 [==============================] - 0s 10ms/step - loss: 9.7648e-05 - accuracy: 1.0000 - val_loss: 0.4169 - val_accuracy: 0.9575\n",
      "Epoch 81/100\n",
      "7/7 [==============================] - 0s 8ms/step - loss: 9.4846e-05 - accuracy: 1.0000 - val_loss: 0.4180 - val_accuracy: 0.9575\n",
      "Epoch 82/100\n",
      "7/7 [==============================] - 0s 8ms/step - loss: 9.2151e-05 - accuracy: 1.0000 - val_loss: 0.4189 - val_accuracy: 0.9575\n",
      "Epoch 83/100\n",
      "7/7 [==============================] - 0s 8ms/step - loss: 8.9603e-05 - accuracy: 1.0000 - val_loss: 0.4199 - val_accuracy: 0.9563\n",
      "Epoch 84/100\n",
      "7/7 [==============================] - 0s 8ms/step - loss: 8.7091e-05 - accuracy: 1.0000 - val_loss: 0.4209 - val_accuracy: 0.9563\n",
      "Epoch 85/100\n",
      "7/7 [==============================] - 0s 8ms/step - loss: 8.4717e-05 - accuracy: 1.0000 - val_loss: 0.4218 - val_accuracy: 0.9563\n",
      "Epoch 86/100\n",
      "7/7 [==============================] - 0s 8ms/step - loss: 8.2523e-05 - accuracy: 1.0000 - val_loss: 0.4227 - val_accuracy: 0.9563\n",
      "Epoch 87/100\n",
      "7/7 [==============================] - 0s 8ms/step - loss: 8.0379e-05 - accuracy: 1.0000 - val_loss: 0.4236 - val_accuracy: 0.9563\n",
      "Epoch 88/100\n",
      "7/7 [==============================] - 0s 9ms/step - loss: 7.8283e-05 - accuracy: 1.0000 - val_loss: 0.4244 - val_accuracy: 0.9563\n",
      "Epoch 89/100\n",
      "7/7 [==============================] - 0s 8ms/step - loss: 7.6259e-05 - accuracy: 1.0000 - val_loss: 0.4253 - val_accuracy: 0.9563\n",
      "Epoch 90/100\n",
      "7/7 [==============================] - 0s 8ms/step - loss: 7.4358e-05 - accuracy: 1.0000 - val_loss: 0.4262 - val_accuracy: 0.9563\n",
      "Epoch 91/100\n",
      "7/7 [==============================] - 0s 8ms/step - loss: 7.2478e-05 - accuracy: 1.0000 - val_loss: 0.4271 - val_accuracy: 0.9563\n",
      "Epoch 92/100\n",
      "7/7 [==============================] - 0s 8ms/step - loss: 7.0718e-05 - accuracy: 1.0000 - val_loss: 0.4279 - val_accuracy: 0.9563\n",
      "Epoch 93/100\n",
      "7/7 [==============================] - 0s 8ms/step - loss: 6.8972e-05 - accuracy: 1.0000 - val_loss: 0.4287 - val_accuracy: 0.9563\n",
      "Epoch 94/100\n",
      "7/7 [==============================] - 0s 8ms/step - loss: 6.7295e-05 - accuracy: 1.0000 - val_loss: 0.4296 - val_accuracy: 0.9563\n",
      "Epoch 95/100\n",
      "7/7 [==============================] - 0s 8ms/step - loss: 6.5756e-05 - accuracy: 1.0000 - val_loss: 0.4304 - val_accuracy: 0.9563\n",
      "Epoch 96/100\n",
      "7/7 [==============================] - 0s 8ms/step - loss: 6.4227e-05 - accuracy: 1.0000 - val_loss: 0.4312 - val_accuracy: 0.9563\n",
      "Epoch 97/100\n",
      "7/7 [==============================] - 0s 9ms/step - loss: 6.2740e-05 - accuracy: 1.0000 - val_loss: 0.4321 - val_accuracy: 0.9563\n",
      "Epoch 98/100\n",
      "7/7 [==============================] - 0s 10ms/step - loss: 6.1284e-05 - accuracy: 1.0000 - val_loss: 0.4329 - val_accuracy: 0.9563\n",
      "Epoch 99/100\n",
      "7/7 [==============================] - 0s 8ms/step - loss: 5.9937e-05 - accuracy: 1.0000 - val_loss: 0.4336 - val_accuracy: 0.9563\n",
      "Epoch 100/100\n",
      "7/7 [==============================] - 0s 8ms/step - loss: 5.8567e-05 - accuracy: 1.0000 - val_loss: 0.4343 - val_accuracy: 0.9563\n"
     ]
    }
   ],
   "source": [
    "hist = model.fit(x_train,y_train, validation_data=(x_test,y_test),batch_size = 500, epochs=100,verbose=1)"
   ]
  },
  {
   "cell_type": "code",
   "execution_count": 137,
   "metadata": {
    "colab": {
     "base_uri": "https://localhost:8080/",
     "height": 0
    },
    "id": "KOs580_7cioV",
    "outputId": "c94f4f18-1527-4869-c15b-0cdae4f8161d"
   },
   "outputs": [
    {
     "name": "stdout",
     "output_type": "stream",
     "text": [
      "100/100 [==============================] - 0s 3ms/step - loss: 5.7769e-05 - accuracy: 1.0000\n",
      "25/25 [==============================] - 0s 3ms/step - loss: 0.4343 - accuracy: 0.9563\n",
      "Train: 100.000, Test: 95.625\n"
     ]
    }
   ],
   "source": [
    "train_error, train_acc = model.evaluate(x_train, y_train, verbose=1)\n",
    "test_error, test_acc = model.evaluate(x_test, y_test, verbose=1)\n",
    "print('Train: %.3f, Test: %.3f' % (train_acc*100, test_acc*100))"
   ]
  },
  {
   "cell_type": "code",
   "execution_count": 138,
   "metadata": {
    "id": "7cvoF7nRqbZ2"
   },
   "outputs": [],
   "source": [
    "from textblob import TextBlob"
   ]
  },
  {
   "cell_type": "code",
   "execution_count": 139,
   "metadata": {
    "colab": {
     "base_uri": "https://localhost:8080/",
     "height": 105
    },
    "id": "MYnTZlJOGgBi",
    "outputId": "b4bdd87c-978f-4ace-cea4-cf332b2af59c"
   },
   "outputs": [
    {
     "data": {
      "application/vnd.google.colaboratory.intrinsic+json": {
       "type": "string"
      },
      "text/plain": [
       "'Purchased on Black FridayPros - Great Price (even off sale)Very powerful and fast with quad core processors Amazing soundWell builtCons -Amazon ads, Amazon need this to subsidize the tablet and will remove the adds if you pay them $15.Inability to access other apps except the ones from Amazon. There is a way which I was able to accomplish to add the Google Play storeNet this is a great tablet for the money'"
      ]
     },
     "execution_count": 139,
     "metadata": {},
     "output_type": "execute_result"
    }
   ],
   "source": [
    "text[0]"
   ]
  },
  {
   "cell_type": "code",
   "execution_count": 140,
   "metadata": {
    "id": "s70zmuYPqbcl"
   },
   "outputs": [],
   "source": [
    "sent = TextBlob(text[0])"
   ]
  },
  {
   "cell_type": "code",
   "execution_count": 141,
   "metadata": {
    "colab": {
     "base_uri": "https://localhost:8080/",
     "height": 0
    },
    "id": "qBrr-wb8GnhF",
    "outputId": "f19d56b8-d063-44ab-fb76-8ad68ac708a8"
   },
   "outputs": [
    {
     "data": {
      "text/plain": [
       "Sentiment(polarity=0.36354166666666665, subjectivity=0.6791666666666667)"
      ]
     },
     "execution_count": 141,
     "metadata": {},
     "output_type": "execute_result"
    }
   ],
   "source": [
    "sent.sentiment"
   ]
  },
  {
   "cell_type": "code",
   "execution_count": 142,
   "metadata": {
    "colab": {
     "base_uri": "https://localhost:8080/",
     "height": 756
    },
    "id": "Ginf3JJKHdRz",
    "outputId": "fa3d02dc-2bd9-4730-abcf-4c92b0ff5186"
   },
   "outputs": [
    {
     "data": {
      "text/html": [
       "\n",
       "  <div id=\"df-60711c3d-8006-462f-bc58-c7fec56cdf17\">\n",
       "    <div class=\"colab-df-container\">\n",
       "      <div>\n",
       "<style scoped>\n",
       "    .dataframe tbody tr th:only-of-type {\n",
       "        vertical-align: middle;\n",
       "    }\n",
       "\n",
       "    .dataframe tbody tr th {\n",
       "        vertical-align: top;\n",
       "    }\n",
       "\n",
       "    .dataframe thead th {\n",
       "        text-align: right;\n",
       "    }\n",
       "</style>\n",
       "<table border=\"1\" class=\"dataframe\">\n",
       "  <thead>\n",
       "    <tr style=\"text-align: right;\">\n",
       "      <th></th>\n",
       "      <th>name</th>\n",
       "      <th>brand</th>\n",
       "      <th>categories</th>\n",
       "      <th>primaryCategories</th>\n",
       "      <th>reviews.date</th>\n",
       "      <th>reviews.text</th>\n",
       "      <th>reviews.title</th>\n",
       "      <th>sentiment</th>\n",
       "      <th>sent_score</th>\n",
       "    </tr>\n",
       "  </thead>\n",
       "  <tbody>\n",
       "    <tr>\n",
       "      <th>0</th>\n",
       "      <td>All-New Fire HD 8 Tablet, 8\" HD Display, Wi-Fi...</td>\n",
       "      <td>Amazon</td>\n",
       "      <td>Electronics,iPad &amp; Tablets,All Tablets,Fire Ta...</td>\n",
       "      <td>Electronics</td>\n",
       "      <td>2016-12-26T00:00:00.000Z</td>\n",
       "      <td>Purchased on Black FridayPros - Great Price (e...</td>\n",
       "      <td>Powerful tablet</td>\n",
       "      <td>2</td>\n",
       "      <td>0.363542</td>\n",
       "    </tr>\n",
       "    <tr>\n",
       "      <th>1</th>\n",
       "      <td>Amazon - Echo Plus w/ Built-In Hub - Silver</td>\n",
       "      <td>Amazon</td>\n",
       "      <td>Amazon Echo,Smart Home,Networking,Home &amp; Tools...</td>\n",
       "      <td>Electronics,Hardware</td>\n",
       "      <td>2018-01-17T00:00:00.000Z</td>\n",
       "      <td>I purchased two Amazon in Echo Plus and two do...</td>\n",
       "      <td>Amazon Echo Plus AWESOME</td>\n",
       "      <td>2</td>\n",
       "      <td>0.458214</td>\n",
       "    </tr>\n",
       "    <tr>\n",
       "      <th>2</th>\n",
       "      <td>Amazon Echo Show Alexa-enabled Bluetooth Speak...</td>\n",
       "      <td>Amazon</td>\n",
       "      <td>Amazon Echo,Virtual Assistant Speakers,Electro...</td>\n",
       "      <td>Electronics,Hardware</td>\n",
       "      <td>2017-12-20T00:00:00.000Z</td>\n",
       "      <td>Just an average Alexa option. Does show a few ...</td>\n",
       "      <td>Average</td>\n",
       "      <td>1</td>\n",
       "      <td>-0.140476</td>\n",
       "    </tr>\n",
       "    <tr>\n",
       "      <th>3</th>\n",
       "      <td>Fire HD 10 Tablet, 10.1 HD Display, Wi-Fi, 16 ...</td>\n",
       "      <td>Amazon</td>\n",
       "      <td>eBook Readers,Fire Tablets,Electronics Feature...</td>\n",
       "      <td>Office Supplies,Electronics</td>\n",
       "      <td>2017-08-04T00:00:00.000Z</td>\n",
       "      <td>very good product. Exactly what I wanted, and ...</td>\n",
       "      <td>Greattttttt</td>\n",
       "      <td>2</td>\n",
       "      <td>0.690000</td>\n",
       "    </tr>\n",
       "    <tr>\n",
       "      <th>4</th>\n",
       "      <td>Brand New Amazon Kindle Fire 16gb 7\" Ips Displ...</td>\n",
       "      <td>Amazon</td>\n",
       "      <td>Computers/Tablets &amp; Networking,Tablets &amp; eBook...</td>\n",
       "      <td>Electronics</td>\n",
       "      <td>2017-01-23T00:00:00.000Z</td>\n",
       "      <td>This is the 3rd one I've purchased. I've bough...</td>\n",
       "      <td>Very durable!</td>\n",
       "      <td>2</td>\n",
       "      <td>0.187500</td>\n",
       "    </tr>\n",
       "  </tbody>\n",
       "</table>\n",
       "</div>\n",
       "      <button class=\"colab-df-convert\" onclick=\"convertToInteractive('df-60711c3d-8006-462f-bc58-c7fec56cdf17')\"\n",
       "              title=\"Convert this dataframe to an interactive table.\"\n",
       "              style=\"display:none;\">\n",
       "        \n",
       "  <svg xmlns=\"http://www.w3.org/2000/svg\" height=\"24px\"viewBox=\"0 0 24 24\"\n",
       "       width=\"24px\">\n",
       "    <path d=\"M0 0h24v24H0V0z\" fill=\"none\"/>\n",
       "    <path d=\"M18.56 5.44l.94 2.06.94-2.06 2.06-.94-2.06-.94-.94-2.06-.94 2.06-2.06.94zm-11 1L8.5 8.5l.94-2.06 2.06-.94-2.06-.94L8.5 2.5l-.94 2.06-2.06.94zm10 10l.94 2.06.94-2.06 2.06-.94-2.06-.94-.94-2.06-.94 2.06-2.06.94z\"/><path d=\"M17.41 7.96l-1.37-1.37c-.4-.4-.92-.59-1.43-.59-.52 0-1.04.2-1.43.59L10.3 9.45l-7.72 7.72c-.78.78-.78 2.05 0 2.83L4 21.41c.39.39.9.59 1.41.59.51 0 1.02-.2 1.41-.59l7.78-7.78 2.81-2.81c.8-.78.8-2.07 0-2.86zM5.41 20L4 18.59l7.72-7.72 1.47 1.35L5.41 20z\"/>\n",
       "  </svg>\n",
       "      </button>\n",
       "      \n",
       "  <style>\n",
       "    .colab-df-container {\n",
       "      display:flex;\n",
       "      flex-wrap:wrap;\n",
       "      gap: 12px;\n",
       "    }\n",
       "\n",
       "    .colab-df-convert {\n",
       "      background-color: #E8F0FE;\n",
       "      border: none;\n",
       "      border-radius: 50%;\n",
       "      cursor: pointer;\n",
       "      display: none;\n",
       "      fill: #1967D2;\n",
       "      height: 32px;\n",
       "      padding: 0 0 0 0;\n",
       "      width: 32px;\n",
       "    }\n",
       "\n",
       "    .colab-df-convert:hover {\n",
       "      background-color: #E2EBFA;\n",
       "      box-shadow: 0px 1px 2px rgba(60, 64, 67, 0.3), 0px 1px 3px 1px rgba(60, 64, 67, 0.15);\n",
       "      fill: #174EA6;\n",
       "    }\n",
       "\n",
       "    [theme=dark] .colab-df-convert {\n",
       "      background-color: #3B4455;\n",
       "      fill: #D2E3FC;\n",
       "    }\n",
       "\n",
       "    [theme=dark] .colab-df-convert:hover {\n",
       "      background-color: #434B5C;\n",
       "      box-shadow: 0px 1px 3px 1px rgba(0, 0, 0, 0.15);\n",
       "      filter: drop-shadow(0px 1px 2px rgba(0, 0, 0, 0.3));\n",
       "      fill: #FFFFFF;\n",
       "    }\n",
       "  </style>\n",
       "\n",
       "      <script>\n",
       "        const buttonEl =\n",
       "          document.querySelector('#df-60711c3d-8006-462f-bc58-c7fec56cdf17 button.colab-df-convert');\n",
       "        buttonEl.style.display =\n",
       "          google.colab.kernel.accessAllowed ? 'block' : 'none';\n",
       "\n",
       "        async function convertToInteractive(key) {\n",
       "          const element = document.querySelector('#df-60711c3d-8006-462f-bc58-c7fec56cdf17');\n",
       "          const dataTable =\n",
       "            await google.colab.kernel.invokeFunction('convertToInteractive',\n",
       "                                                     [key], {});\n",
       "          if (!dataTable) return;\n",
       "\n",
       "          const docLinkHtml = 'Like what you see? Visit the ' +\n",
       "            '<a target=\"_blank\" href=https://colab.research.google.com/notebooks/data_table.ipynb>data table notebook</a>'\n",
       "            + ' to learn more about interactive tables.';\n",
       "          element.innerHTML = '';\n",
       "          dataTable['output_type'] = 'display_data';\n",
       "          await google.colab.output.renderOutput(dataTable, element);\n",
       "          const docLink = document.createElement('div');\n",
       "          docLink.innerHTML = docLinkHtml;\n",
       "          element.appendChild(docLink);\n",
       "        }\n",
       "      </script>\n",
       "    </div>\n",
       "  </div>\n",
       "  "
      ],
      "text/plain": [
       "                                                name   brand  \\\n",
       "0  All-New Fire HD 8 Tablet, 8\" HD Display, Wi-Fi...  Amazon   \n",
       "1        Amazon - Echo Plus w/ Built-In Hub - Silver  Amazon   \n",
       "2  Amazon Echo Show Alexa-enabled Bluetooth Speak...  Amazon   \n",
       "3  Fire HD 10 Tablet, 10.1 HD Display, Wi-Fi, 16 ...  Amazon   \n",
       "4  Brand New Amazon Kindle Fire 16gb 7\" Ips Displ...  Amazon   \n",
       "\n",
       "                                          categories  \\\n",
       "0  Electronics,iPad & Tablets,All Tablets,Fire Ta...   \n",
       "1  Amazon Echo,Smart Home,Networking,Home & Tools...   \n",
       "2  Amazon Echo,Virtual Assistant Speakers,Electro...   \n",
       "3  eBook Readers,Fire Tablets,Electronics Feature...   \n",
       "4  Computers/Tablets & Networking,Tablets & eBook...   \n",
       "\n",
       "             primaryCategories              reviews.date  \\\n",
       "0                  Electronics  2016-12-26T00:00:00.000Z   \n",
       "1         Electronics,Hardware  2018-01-17T00:00:00.000Z   \n",
       "2         Electronics,Hardware  2017-12-20T00:00:00.000Z   \n",
       "3  Office Supplies,Electronics  2017-08-04T00:00:00.000Z   \n",
       "4                  Electronics  2017-01-23T00:00:00.000Z   \n",
       "\n",
       "                                        reviews.text  \\\n",
       "0  Purchased on Black FridayPros - Great Price (e...   \n",
       "1  I purchased two Amazon in Echo Plus and two do...   \n",
       "2  Just an average Alexa option. Does show a few ...   \n",
       "3  very good product. Exactly what I wanted, and ...   \n",
       "4  This is the 3rd one I've purchased. I've bough...   \n",
       "\n",
       "              reviews.title  sentiment  sent_score  \n",
       "0           Powerful tablet          2    0.363542  \n",
       "1  Amazon Echo Plus AWESOME          2    0.458214  \n",
       "2                   Average          1   -0.140476  \n",
       "3               Greattttttt          2    0.690000  \n",
       "4             Very durable!          2    0.187500  "
      ]
     },
     "execution_count": 142,
     "metadata": {},
     "output_type": "execute_result"
    }
   ],
   "source": [
    "data['sent_score'] = data['reviews.text'].apply(lambda x: (TextBlob(x).sentiment.polarity))\n",
    "data.head()\n"
   ]
  },
  {
   "cell_type": "code",
   "execution_count": 143,
   "metadata": {
    "colab": {
     "base_uri": "https://localhost:8080/",
     "height": 0
    },
    "id": "MUu6Nupcx1MU",
    "outputId": "30a57d91-8b71-4c06-e1aa-13f223224653"
   },
   "outputs": [
    {
     "name": "stdout",
     "output_type": "stream",
     "text": [
      "Model: \"sequential_5\"\n",
      "_________________________________________________________________\n",
      " Layer (type)                Output Shape              Param #   \n",
      "=================================================================\n",
      " embedding_4 (Embedding)     (None, None, 64)          64000     \n",
      "                                                                 \n",
      " lstm_8 (LSTM)               (None, None, 500)         1130000   \n",
      "                                                                 \n",
      " lstm_9 (LSTM)               (None, 100)               240400    \n",
      "                                                                 \n",
      " dense_7 (Dense)             (None, 3)                 303       \n",
      "                                                                 \n",
      "=================================================================\n",
      "Total params: 1,434,703\n",
      "Trainable params: 1,434,703\n",
      "Non-trainable params: 0\n",
      "_________________________________________________________________\n"
     ]
    }
   ],
   "source": [
    "from keras.layers.recurrent import RECURRENT_DROPOUT_WARNING_MSG\n",
    "from keras.models import Sequential\n",
    "from keras.layers import LSTM, Dense,Embedding\n",
    "\n",
    "lstm_model = Sequential()\n",
    "lstm_model.add(Embedding(input_dim= 1000,output_dim =  64))\n",
    "lstm_model.add(LSTM(500, return_sequences = True))\n",
    "lstm_model.add(LSTM(100))\n",
    "lstm_model.add(Dense(3,activation = \"softmax\"))\n",
    "loss_fn = keras.losses.CategoricalCrossentropy(from_logits=False)\n",
    "lstm_model.compile(optimizer='adam', loss= loss_fn, metrics=['accuracy'])\n",
    "lstm_model.summary()"
   ]
  },
  {
   "cell_type": "code",
   "execution_count": 144,
   "metadata": {
    "colab": {
     "base_uri": "https://localhost:8080/",
     "height": 0
    },
    "id": "DWbT-Fpk5ovK",
    "outputId": "cb3065e7-01ac-406b-9a7b-67074d60819b"
   },
   "outputs": [
    {
     "data": {
      "text/plain": [
       "(3200, 1000)"
      ]
     },
     "execution_count": 144,
     "metadata": {},
     "output_type": "execute_result"
    }
   ],
   "source": [
    "x_train.shape"
   ]
  },
  {
   "cell_type": "code",
   "execution_count": 145,
   "metadata": {
    "colab": {
     "base_uri": "https://localhost:8080/",
     "height": 0
    },
    "id": "e0LLEhj1x1Qm",
    "outputId": "0b5f2add-8e30-4925-fa8f-761513762f2c"
   },
   "outputs": [
    {
     "name": "stdout",
     "output_type": "stream",
     "text": [
      "Epoch 1/50\n",
      "7/7 [==============================] - 12s 1s/step - loss: 0.6354 - accuracy: 0.7959\n",
      "Epoch 2/50\n",
      "7/7 [==============================] - 9s 1s/step - loss: 0.2933 - accuracy: 0.9369\n",
      "Epoch 3/50\n",
      "7/7 [==============================] - 9s 1s/step - loss: 0.2824 - accuracy: 0.9369\n",
      "Epoch 4/50\n",
      "7/7 [==============================] - 9s 1s/step - loss: 0.2796 - accuracy: 0.9369\n",
      "Epoch 5/50\n",
      "7/7 [==============================] - 9s 1s/step - loss: 0.2794 - accuracy: 0.9369\n",
      "Epoch 6/50\n",
      "7/7 [==============================] - 9s 1s/step - loss: 0.2784 - accuracy: 0.9369\n",
      "Epoch 7/50\n",
      "7/7 [==============================] - 10s 1s/step - loss: 0.2781 - accuracy: 0.9369\n",
      "Epoch 8/50\n",
      "7/7 [==============================] - 10s 1s/step - loss: 0.2784 - accuracy: 0.9369\n",
      "Epoch 9/50\n",
      "7/7 [==============================] - 10s 1s/step - loss: 0.2783 - accuracy: 0.9369\n",
      "Epoch 10/50\n",
      "7/7 [==============================] - 10s 1s/step - loss: 0.2781 - accuracy: 0.9369\n",
      "Epoch 11/50\n",
      "7/7 [==============================] - 10s 1s/step - loss: 0.2782 - accuracy: 0.9369\n",
      "Epoch 12/50\n",
      "7/7 [==============================] - 10s 1s/step - loss: 0.2782 - accuracy: 0.9369\n",
      "Epoch 13/50\n",
      "7/7 [==============================] - 10s 1s/step - loss: 0.2782 - accuracy: 0.9369\n",
      "Epoch 14/50\n",
      "7/7 [==============================] - 10s 1s/step - loss: 0.2782 - accuracy: 0.9369\n",
      "Epoch 15/50\n",
      "7/7 [==============================] - 10s 1s/step - loss: 0.2782 - accuracy: 0.9369\n",
      "Epoch 16/50\n",
      "7/7 [==============================] - 10s 1s/step - loss: 0.2782 - accuracy: 0.9369\n",
      "Epoch 17/50\n",
      "7/7 [==============================] - 10s 1s/step - loss: 0.2782 - accuracy: 0.9369\n",
      "Epoch 18/50\n",
      "7/7 [==============================] - 10s 1s/step - loss: 0.2782 - accuracy: 0.9369\n",
      "Epoch 19/50\n",
      "7/7 [==============================] - 10s 1s/step - loss: 0.2782 - accuracy: 0.9369\n",
      "Epoch 20/50\n",
      "7/7 [==============================] - 10s 1s/step - loss: 0.2782 - accuracy: 0.9369\n",
      "Epoch 21/50\n",
      "7/7 [==============================] - 10s 1s/step - loss: 0.2782 - accuracy: 0.9369\n",
      "Epoch 22/50\n",
      "7/7 [==============================] - 10s 1s/step - loss: 0.2782 - accuracy: 0.9369\n",
      "Epoch 23/50\n",
      "7/7 [==============================] - 10s 1s/step - loss: 0.2782 - accuracy: 0.9369\n",
      "Epoch 24/50\n",
      "7/7 [==============================] - 10s 1s/step - loss: 0.2783 - accuracy: 0.9369\n",
      "Epoch 25/50\n",
      "7/7 [==============================] - 10s 1s/step - loss: 0.2783 - accuracy: 0.9369\n",
      "Epoch 26/50\n",
      "7/7 [==============================] - 10s 1s/step - loss: 0.2783 - accuracy: 0.9369\n",
      "Epoch 27/50\n",
      "7/7 [==============================] - 10s 1s/step - loss: 0.2783 - accuracy: 0.9369\n",
      "Epoch 28/50\n",
      "7/7 [==============================] - 10s 1s/step - loss: 0.2783 - accuracy: 0.9369\n",
      "Epoch 29/50\n",
      "7/7 [==============================] - 10s 1s/step - loss: 0.2783 - accuracy: 0.9369\n",
      "Epoch 30/50\n",
      "7/7 [==============================] - 10s 1s/step - loss: 0.2783 - accuracy: 0.9369\n",
      "Epoch 31/50\n",
      "7/7 [==============================] - 10s 1s/step - loss: 0.2783 - accuracy: 0.9369\n",
      "Epoch 32/50\n",
      "7/7 [==============================] - 10s 1s/step - loss: 0.2783 - accuracy: 0.9369\n",
      "Epoch 33/50\n",
      "7/7 [==============================] - 10s 1s/step - loss: 0.2783 - accuracy: 0.9369\n",
      "Epoch 34/50\n",
      "7/7 [==============================] - 10s 1s/step - loss: 0.2783 - accuracy: 0.9369\n",
      "Epoch 35/50\n",
      "7/7 [==============================] - 10s 1s/step - loss: 0.2783 - accuracy: 0.9369\n",
      "Epoch 36/50\n",
      "7/7 [==============================] - 10s 1s/step - loss: 0.2783 - accuracy: 0.9369\n",
      "Epoch 37/50\n",
      "7/7 [==============================] - 10s 1s/step - loss: 0.2783 - accuracy: 0.9369\n",
      "Epoch 38/50\n",
      "7/7 [==============================] - 10s 1s/step - loss: 0.2783 - accuracy: 0.9369\n",
      "Epoch 39/50\n",
      "7/7 [==============================] - 10s 1s/step - loss: 0.2783 - accuracy: 0.9369\n",
      "Epoch 40/50\n",
      "7/7 [==============================] - 10s 1s/step - loss: 0.2783 - accuracy: 0.9369\n",
      "Epoch 41/50\n",
      "7/7 [==============================] - 10s 1s/step - loss: 0.2783 - accuracy: 0.9369\n",
      "Epoch 42/50\n",
      "7/7 [==============================] - 10s 1s/step - loss: 0.2782 - accuracy: 0.9369\n",
      "Epoch 43/50\n",
      "7/7 [==============================] - 10s 1s/step - loss: 0.2782 - accuracy: 0.9369\n",
      "Epoch 44/50\n",
      "7/7 [==============================] - 10s 1s/step - loss: 0.2782 - accuracy: 0.9369\n",
      "Epoch 45/50\n",
      "7/7 [==============================] - 10s 1s/step - loss: 0.2782 - accuracy: 0.9369\n",
      "Epoch 46/50\n",
      "7/7 [==============================] - 10s 1s/step - loss: 0.2782 - accuracy: 0.9369\n",
      "Epoch 47/50\n",
      "7/7 [==============================] - 10s 1s/step - loss: 0.2782 - accuracy: 0.9369\n",
      "Epoch 48/50\n",
      "7/7 [==============================] - 10s 1s/step - loss: 0.2782 - accuracy: 0.9369\n",
      "Epoch 49/50\n",
      "7/7 [==============================] - 10s 1s/step - loss: 0.2782 - accuracy: 0.9369\n",
      "Epoch 50/50\n",
      "7/7 [==============================] - 10s 1s/step - loss: 0.2782 - accuracy: 0.9369\n"
     ]
    }
   ],
   "source": [
    "lstm_hist = lstm_model.fit(x_train, y_train, epochs = 50, batch_size = 500, verbose = 1, shuffle = False)"
   ]
  },
  {
   "cell_type": "code",
   "execution_count": 146,
   "metadata": {
    "colab": {
     "base_uri": "https://localhost:8080/",
     "height": 0
    },
    "id": "aKoGfx-5x1UM",
    "outputId": "58beee84-ccf3-4670-b936-3984818d6378"
   },
   "outputs": [
    {
     "name": "stdout",
     "output_type": "stream",
     "text": [
      "100/100 [==============================] - 7s 65ms/step - loss: 0.2779 - accuracy: 0.9369\n",
      "25/25 [==============================] - 2s 68ms/step - loss: 0.2677 - accuracy: 0.9388\n",
      "Train: 93.687, Test: 93.875\n"
     ]
    }
   ],
   "source": [
    "train_error, train_acc = lstm_model.evaluate(x_train, y_train, verbose=1)\n",
    "test_error, test_acc = lstm_model.evaluate(x_test, y_test, verbose=1)\n",
    "print('Train: %.3f, Test: %.3f' % (train_acc*100, test_acc*100))"
   ]
  },
  {
   "cell_type": "code",
   "execution_count": 147,
   "metadata": {
    "id": "aL2_2riy3Soe"
   },
   "outputs": [],
   "source": [
    "processed_docs = [ i.split() for i in processed_text  ]"
   ]
  },
  {
   "cell_type": "code",
   "execution_count": 148,
   "metadata": {
    "id": "5zhuNSTnx1X2"
   },
   "outputs": [],
   "source": [
    "dictionary = gensim.corpora.Dictionary(processed_docs)"
   ]
  },
  {
   "cell_type": "code",
   "execution_count": 149,
   "metadata": {
    "id": "Im2Tywok7dAA"
   },
   "outputs": [],
   "source": [
    "dictionary.filter_extremes(no_below=15, no_above=0.1, keep_n= 100000)"
   ]
  },
  {
   "cell_type": "code",
   "execution_count": 150,
   "metadata": {
    "id": "oTRJV17y7dCw"
   },
   "outputs": [],
   "source": [
    "bow_corpus = [dictionary.doc2bow(doc) for doc in processed_docs]\n",
    "\n",
    "document_num = 20\n",
    "bow_doc_x = bow_corpus[document_num]\n"
   ]
  },
  {
   "cell_type": "code",
   "execution_count": 151,
   "metadata": {
    "id": "fV5d8RYh2f3S"
   },
   "outputs": [],
   "source": [
    "lda_model =  gensim.models.LdaMulticore(bow_corpus, \n",
    "                                   num_topics = 8, \n",
    "                                   id2word = dictionary,                                    \n",
    "                                   passes = 10,\n",
    "                                   workers = 2)"
   ]
  },
  {
   "cell_type": "code",
   "execution_count": 152,
   "metadata": {
    "colab": {
     "base_uri": "https://localhost:8080/",
     "height": 0
    },
    "id": "mPBGpktx2f7d",
    "outputId": "e8965a99-263a-459b-f339-f0d2c1b586dc"
   },
   "outputs": [
    {
     "name": "stdout",
     "output_type": "stream",
     "text": [
      "Topic: 0 \n",
      "Words: 0.028*\"device\" + 0.027*\"home\" + 0.024*\"smart\" + 0.019*\"plus\" + 0.015*\"books\" + 0.011*\"happy\" + 0.011*\"hub\" + 0.009*\"read\" + 0.009*\"much\" + 0.008*\"purchase\"\n",
      "\n",
      "\n",
      "Topic: 1 \n",
      "Words: 0.053*\"product\" + 0.039*\"would\" + 0.030*\"recommend\" + 0.019*\"buy\" + 0.014*\"like\" + 0.014*\"price\" + 0.013*\"work\" + 0.013*\"google\" + 0.013*\"really\" + 0.013*\"best\"\n",
      "\n",
      "\n",
      "Topic: 2 \n",
      "Words: 0.022*\"would\" + 0.020*\"games\" + 0.019*\"get\" + 0.018*\"play\" + 0.017*\"like\" + 0.017*\"screen\" + 0.016*\"much\" + 0.013*\"read\" + 0.011*\"reading\" + 0.011*\"charge\"\n",
      "\n",
      "\n",
      "Topic: 3 \n",
      "Words: 0.043*\"alexa\" + 0.031*\"music\" + 0.029*\"show\" + 0.019*\"set\" + 0.013*\"things\" + 0.013*\"sound\" + 0.012*\"fun\" + 0.012*\"time\" + 0.011*\"home\" + 0.011*\"tap\"\n",
      "\n",
      "\n",
      "Topic: 4 \n",
      "Words: 0.033*\"books\" + 0.022*\"read\" + 0.017*\"sound\" + 0.013*\"purchased\" + 0.012*\"screen\" + 0.012*\"also\" + 0.012*\"picture\" + 0.011*\"reading\" + 0.010*\"quality\" + 0.010*\"size\"\n",
      "\n",
      "\n",
      "Topic: 5 \n",
      "Words: 0.039*\"kids\" + 0.025*\"fire\" + 0.022*\"like\" + 0.019*\"screen\" + 0.016*\"reading\" + 0.015*\"apps\" + 0.013*\"size\" + 0.012*\"light\" + 0.011*\"little\" + 0.011*\"time\"\n",
      "\n",
      "\n",
      "Topic: 6 \n",
      "Words: 0.051*\"old\" + 0.041*\"year\" + 0.023*\"loves\" + 0.019*\"lights\" + 0.013*\"granddaughter\" + 0.011*\"games\" + 0.010*\"grandson\" + 0.010*\"well\" + 0.010*\"everything\" + 0.010*\"really\"\n",
      "\n",
      "\n",
      "Topic: 7 \n",
      "Words: 0.053*\"loves\" + 0.044*\"gift\" + 0.039*\"price\" + 0.025*\"christmas\" + 0.022*\"daughter\" + 0.021*\"best\" + 0.021*\"purchased\" + 0.020*\"got\" + 0.017*\"fire\" + 0.016*\"wife\"\n",
      "\n",
      "\n"
     ]
    }
   ],
   "source": [
    "for idx, topic in lda_model.print_topics(-1):\n",
    "    print(\"Topic: {} \\nWords: {}\".format(idx, topic ))\n",
    "    print(\"\\n\")"
   ]
  },
  {
   "cell_type": "code",
   "execution_count": 152,
   "metadata": {
    "id": "lF5soKhg2f_f"
   },
   "outputs": [],
   "source": []
  },
  {
   "cell_type": "code",
   "execution_count": 152,
   "metadata": {
    "id": "E3EjjGW92gCM"
   },
   "outputs": [],
   "source": []
  },
  {
   "cell_type": "markdown",
   "metadata": {
    "id": "T_gxNSFf742H"
   },
   "source": [
    "Comparing all the models , Keras model with Multiclass SVM performs well\n"
   ]
  }
 ],
 "metadata": {
  "accelerator": "GPU",
  "colab": {
   "collapsed_sections": [],
   "name": "CAPSTONE_1.ipynb",
   "provenance": []
  },
  "kernelspec": {
   "display_name": "Python 3 (ipykernel)",
   "language": "python",
   "name": "python3"
  },
  "language_info": {
   "codemirror_mode": {
    "name": "ipython",
    "version": 3
   },
   "file_extension": ".py",
   "mimetype": "text/x-python",
   "name": "python",
   "nbconvert_exporter": "python",
   "pygments_lexer": "ipython3",
   "version": "3.9.7"
  }
 },
 "nbformat": 4,
 "nbformat_minor": 1
}
